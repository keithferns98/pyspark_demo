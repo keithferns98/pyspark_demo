{
  "nbformat": 4,
  "nbformat_minor": 0,
  "metadata": {
    "colab": {
      "name": "pyspark_simple.ipynb",
      "provenance": [],
      "collapsed_sections": [],
      "authorship_tag": "ABX9TyM1CfUka2YBi49FWpQDzCpu",
      "include_colab_link": true
    },
    "kernelspec": {
      "name": "python3",
      "display_name": "Python 3"
    },
    "language_info": {
      "name": "python"
    }
  },
  "cells": [
    {
      "cell_type": "markdown",
      "metadata": {
        "id": "view-in-github",
        "colab_type": "text"
      },
      "source": [
        "<a href=\"https://colab.research.google.com/github/keithferns98/pyspark_demo/blob/main/pyspark_simple.ipynb\" target=\"_parent\"><img src=\"https://colab.research.google.com/assets/colab-badge.svg\" alt=\"Open In Colab\"/></a>"
      ]
    },
    {
      "cell_type": "code",
      "source": [
        "!pip install pyspark py4j"
      ],
      "metadata": {
        "colab": {
          "base_uri": "https://localhost:8080/"
        },
        "id": "rno7j-ffJDLT",
        "outputId": "e8c847f3-9af8-4813-bcac-2858b2643aaf"
      },
      "execution_count": null,
      "outputs": [
        {
          "output_type": "stream",
          "name": "stdout",
          "text": [
            "Collecting pyspark\n",
            "  Downloading pyspark-3.2.0.tar.gz (281.3 MB)\n",
            "\u001b[K     |████████████████████████████████| 281.3 MB 36 kB/s \n",
            "\u001b[?25hCollecting py4j\n",
            "  Downloading py4j-0.10.9.3-py2.py3-none-any.whl (198 kB)\n",
            "\u001b[K     |████████████████████████████████| 198 kB 29.8 MB/s \n",
            "\u001b[?25h  Downloading py4j-0.10.9.2-py2.py3-none-any.whl (198 kB)\n",
            "\u001b[K     |████████████████████████████████| 198 kB 50.2 MB/s \n",
            "\u001b[?25hBuilding wheels for collected packages: pyspark\n",
            "  Building wheel for pyspark (setup.py) ... \u001b[?25l\u001b[?25hdone\n",
            "  Created wheel for pyspark: filename=pyspark-3.2.0-py2.py3-none-any.whl size=281805912 sha256=b0def616f29d267a58bc6ea74b9b4eb761b4284b4a38dc71331f205061bda6cd\n",
            "  Stored in directory: /root/.cache/pip/wheels/0b/de/d2/9be5d59d7331c6c2a7c1b6d1a4f463ce107332b1ecd4e80718\n",
            "Successfully built pyspark\n",
            "Installing collected packages: py4j, pyspark\n",
            "Successfully installed py4j-0.10.9.2 pyspark-3.2.0\n"
          ]
        }
      ]
    },
    {
      "cell_type": "code",
      "source": [
        "from pyspark.sql import SparkSession"
      ],
      "metadata": {
        "id": "2tmezIhgIZsJ"
      },
      "execution_count": null,
      "outputs": []
    },
    {
      "cell_type": "code",
      "source": [
        "spark=SparkSession.builder.appName(\"Test_pyspark\").getOrCreate()"
      ],
      "metadata": {
        "id": "xuqguPs0J2yG"
      },
      "execution_count": null,
      "outputs": []
    },
    {
      "cell_type": "code",
      "source": [
        "df=spark.read.csv('ipl_ball_by_ball.csv',header=True,inferSchema=True)\n",
        "df1=spark.read.csv('ipl_matches.csv',header=True,inferSchema=True)\n",
        "df2=spark.read.csv('ipl_venue.csv',header=True,inferSchema=True)"
      ],
      "metadata": {
        "id": "zSjqF1ZdKBw1",
        "colab": {
          "base_uri": "https://localhost:8080/",
          "height": 346
        },
        "outputId": "92694739-1fcd-4f53-a548-0536efcf0e7c"
      },
      "execution_count": null,
      "outputs": [
        {
          "output_type": "error",
          "ename": "AnalysisException",
          "evalue": "ignored",
          "traceback": [
            "\u001b[0;31m---------------------------------------------------------------------------\u001b[0m",
            "\u001b[0;31mAnalysisException\u001b[0m                         Traceback (most recent call last)",
            "\u001b[0;32m<ipython-input-6-375d787ae23a>\u001b[0m in \u001b[0;36m<module>\u001b[0;34m()\u001b[0m\n\u001b[1;32m      1\u001b[0m \u001b[0mdf\u001b[0m\u001b[0;34m=\u001b[0m\u001b[0mspark\u001b[0m\u001b[0;34m.\u001b[0m\u001b[0mread\u001b[0m\u001b[0;34m.\u001b[0m\u001b[0mcsv\u001b[0m\u001b[0;34m(\u001b[0m\u001b[0;34m'ipl_ball_by_ball.csv'\u001b[0m\u001b[0;34m,\u001b[0m\u001b[0mheader\u001b[0m\u001b[0;34m=\u001b[0m\u001b[0;32mTrue\u001b[0m\u001b[0;34m,\u001b[0m\u001b[0minferSchema\u001b[0m\u001b[0;34m=\u001b[0m\u001b[0;32mTrue\u001b[0m\u001b[0;34m)\u001b[0m\u001b[0;34m\u001b[0m\u001b[0;34m\u001b[0m\u001b[0m\n\u001b[0;32m----> 2\u001b[0;31m \u001b[0mdf1\u001b[0m\u001b[0;34m=\u001b[0m\u001b[0mspark\u001b[0m\u001b[0;34m.\u001b[0m\u001b[0mread\u001b[0m\u001b[0;34m.\u001b[0m\u001b[0mcsv\u001b[0m\u001b[0;34m(\u001b[0m\u001b[0;34m'ipl_matches.csv'\u001b[0m\u001b[0;34m,\u001b[0m\u001b[0mheader\u001b[0m\u001b[0;34m=\u001b[0m\u001b[0;32mTrue\u001b[0m\u001b[0;34m,\u001b[0m\u001b[0minferSchema\u001b[0m\u001b[0;34m=\u001b[0m\u001b[0;32mTrue\u001b[0m\u001b[0;34m)\u001b[0m\u001b[0;34m\u001b[0m\u001b[0;34m\u001b[0m\u001b[0m\n\u001b[0m\u001b[1;32m      3\u001b[0m \u001b[0mdf2\u001b[0m\u001b[0;34m=\u001b[0m\u001b[0mspark\u001b[0m\u001b[0;34m.\u001b[0m\u001b[0mread\u001b[0m\u001b[0;34m.\u001b[0m\u001b[0mcsv\u001b[0m\u001b[0;34m(\u001b[0m\u001b[0;34m'ipl_venue.csv'\u001b[0m\u001b[0;34m,\u001b[0m\u001b[0mheader\u001b[0m\u001b[0;34m=\u001b[0m\u001b[0;32mTrue\u001b[0m\u001b[0;34m,\u001b[0m\u001b[0minferSchema\u001b[0m\u001b[0;34m=\u001b[0m\u001b[0;32mTrue\u001b[0m\u001b[0;34m)\u001b[0m\u001b[0;34m\u001b[0m\u001b[0;34m\u001b[0m\u001b[0m\n",
            "\u001b[0;32m/usr/local/lib/python3.7/dist-packages/pyspark/sql/readwriter.py\u001b[0m in \u001b[0;36mcsv\u001b[0;34m(self, path, schema, sep, encoding, quote, escape, comment, header, inferSchema, ignoreLeadingWhiteSpace, ignoreTrailingWhiteSpace, nullValue, nanValue, positiveInf, negativeInf, dateFormat, timestampFormat, maxColumns, maxCharsPerColumn, maxMalformedLogPerPartition, mode, columnNameOfCorruptRecord, multiLine, charToEscapeQuoteEscaping, samplingRatio, enforceSchema, emptyValue, locale, lineSep, pathGlobFilter, recursiveFileLookup, modifiedBefore, modifiedAfter, unescapedQuoteHandling)\u001b[0m\n\u001b[1;32m    408\u001b[0m             \u001b[0mpath\u001b[0m \u001b[0;34m=\u001b[0m \u001b[0;34m[\u001b[0m\u001b[0mpath\u001b[0m\u001b[0;34m]\u001b[0m\u001b[0;34m\u001b[0m\u001b[0;34m\u001b[0m\u001b[0m\n\u001b[1;32m    409\u001b[0m         \u001b[0;32mif\u001b[0m \u001b[0mtype\u001b[0m\u001b[0;34m(\u001b[0m\u001b[0mpath\u001b[0m\u001b[0;34m)\u001b[0m \u001b[0;34m==\u001b[0m \u001b[0mlist\u001b[0m\u001b[0;34m:\u001b[0m\u001b[0;34m\u001b[0m\u001b[0;34m\u001b[0m\u001b[0m\n\u001b[0;32m--> 410\u001b[0;31m             \u001b[0;32mreturn\u001b[0m \u001b[0mself\u001b[0m\u001b[0;34m.\u001b[0m\u001b[0m_df\u001b[0m\u001b[0;34m(\u001b[0m\u001b[0mself\u001b[0m\u001b[0;34m.\u001b[0m\u001b[0m_jreader\u001b[0m\u001b[0;34m.\u001b[0m\u001b[0mcsv\u001b[0m\u001b[0;34m(\u001b[0m\u001b[0mself\u001b[0m\u001b[0;34m.\u001b[0m\u001b[0m_spark\u001b[0m\u001b[0;34m.\u001b[0m\u001b[0m_sc\u001b[0m\u001b[0;34m.\u001b[0m\u001b[0m_jvm\u001b[0m\u001b[0;34m.\u001b[0m\u001b[0mPythonUtils\u001b[0m\u001b[0;34m.\u001b[0m\u001b[0mtoSeq\u001b[0m\u001b[0;34m(\u001b[0m\u001b[0mpath\u001b[0m\u001b[0;34m)\u001b[0m\u001b[0;34m)\u001b[0m\u001b[0;34m)\u001b[0m\u001b[0;34m\u001b[0m\u001b[0;34m\u001b[0m\u001b[0m\n\u001b[0m\u001b[1;32m    411\u001b[0m         \u001b[0;32melif\u001b[0m \u001b[0misinstance\u001b[0m\u001b[0;34m(\u001b[0m\u001b[0mpath\u001b[0m\u001b[0;34m,\u001b[0m \u001b[0mRDD\u001b[0m\u001b[0;34m)\u001b[0m\u001b[0;34m:\u001b[0m\u001b[0;34m\u001b[0m\u001b[0;34m\u001b[0m\u001b[0m\n\u001b[1;32m    412\u001b[0m             \u001b[0;32mdef\u001b[0m \u001b[0mfunc\u001b[0m\u001b[0;34m(\u001b[0m\u001b[0miterator\u001b[0m\u001b[0;34m)\u001b[0m\u001b[0;34m:\u001b[0m\u001b[0;34m\u001b[0m\u001b[0;34m\u001b[0m\u001b[0m\n",
            "\u001b[0;32m/usr/local/lib/python3.7/dist-packages/py4j/java_gateway.py\u001b[0m in \u001b[0;36m__call__\u001b[0;34m(self, *args)\u001b[0m\n\u001b[1;32m   1308\u001b[0m         \u001b[0manswer\u001b[0m \u001b[0;34m=\u001b[0m \u001b[0mself\u001b[0m\u001b[0;34m.\u001b[0m\u001b[0mgateway_client\u001b[0m\u001b[0;34m.\u001b[0m\u001b[0msend_command\u001b[0m\u001b[0;34m(\u001b[0m\u001b[0mcommand\u001b[0m\u001b[0;34m)\u001b[0m\u001b[0;34m\u001b[0m\u001b[0;34m\u001b[0m\u001b[0m\n\u001b[1;32m   1309\u001b[0m         return_value = get_return_value(\n\u001b[0;32m-> 1310\u001b[0;31m             answer, self.gateway_client, self.target_id, self.name)\n\u001b[0m\u001b[1;32m   1311\u001b[0m \u001b[0;34m\u001b[0m\u001b[0m\n\u001b[1;32m   1312\u001b[0m         \u001b[0;32mfor\u001b[0m \u001b[0mtemp_arg\u001b[0m \u001b[0;32min\u001b[0m \u001b[0mtemp_args\u001b[0m\u001b[0;34m:\u001b[0m\u001b[0;34m\u001b[0m\u001b[0;34m\u001b[0m\u001b[0m\n",
            "\u001b[0;32m/usr/local/lib/python3.7/dist-packages/pyspark/sql/utils.py\u001b[0m in \u001b[0;36mdeco\u001b[0;34m(*a, **kw)\u001b[0m\n\u001b[1;32m    115\u001b[0m                 \u001b[0;31m# Hide where the exception came from that shows a non-Pythonic\u001b[0m\u001b[0;34m\u001b[0m\u001b[0;34m\u001b[0m\u001b[0;34m\u001b[0m\u001b[0m\n\u001b[1;32m    116\u001b[0m                 \u001b[0;31m# JVM exception message.\u001b[0m\u001b[0;34m\u001b[0m\u001b[0;34m\u001b[0m\u001b[0;34m\u001b[0m\u001b[0m\n\u001b[0;32m--> 117\u001b[0;31m                 \u001b[0;32mraise\u001b[0m \u001b[0mconverted\u001b[0m \u001b[0;32mfrom\u001b[0m \u001b[0;32mNone\u001b[0m\u001b[0;34m\u001b[0m\u001b[0;34m\u001b[0m\u001b[0m\n\u001b[0m\u001b[1;32m    118\u001b[0m             \u001b[0;32melse\u001b[0m\u001b[0;34m:\u001b[0m\u001b[0;34m\u001b[0m\u001b[0;34m\u001b[0m\u001b[0m\n\u001b[1;32m    119\u001b[0m                 \u001b[0;32mraise\u001b[0m\u001b[0;34m\u001b[0m\u001b[0;34m\u001b[0m\u001b[0m\n",
            "\u001b[0;31mAnalysisException\u001b[0m: Path does not exist: file:/content/ipl_matches.csv"
          ]
        }
      ]
    },
    {
      "cell_type": "code",
      "source": [
        "# df.createOrReplaceTempView('balls')\n",
        "# spark.sql(\n",
        "#     \"\"\"\n",
        "#     select * from balls\n",
        "#     \"\"\"\n",
        "# )\n",
        "# df1.createOrReplaceTempView(\"matches\")\n",
        "# spark.sql(\n",
        "#     \"\"\"\n",
        "#     select * from matches\n",
        "#     \"\"\"\n",
        "# )\n",
        "# df2.createOrReplaceTempView(\"venue\")\n",
        "# spark.sql(\n",
        "# \"\"\"\n",
        "# select * from venue\n",
        "# \"\"\"\n",
        "# )\n",
        "\n",
        "\n",
        "\n",
        "\n"
      ],
      "metadata": {
        "id": "ky6-Ovt0LQuB"
      },
      "execution_count": null,
      "outputs": []
    },
    {
      "cell_type": "code",
      "source": [
        "df.show(vertical=True)"
      ],
      "metadata": {
        "colab": {
          "base_uri": "https://localhost:8080/"
        },
        "id": "gOyDAM4MQt89",
        "outputId": "e7037852-f006-471b-caa5-c6d727e70baa"
      },
      "execution_count": null,
      "outputs": [
        {
          "output_type": "stream",
          "name": "stdout",
          "text": [
            "-RECORD 0--------------------------------\n",
            " match_id         | 419157               \n",
            " inning           | 2                    \n",
            " overs            | 16                   \n",
            " ball             | 4                    \n",
            " batsman          | V Kohli              \n",
            " non_striker      | R Vinay Kumar        \n",
            " bowler           | CRD Fernando         \n",
            " batsman_runs     | 0                    \n",
            " extra_runs       | 0                    \n",
            " total_runs       | 0                    \n",
            " non_boundary     | 0                    \n",
            " is_wicket        | 0                    \n",
            " dismissal_kind   | NA                   \n",
            " player_dismissed | NA                   \n",
            " fielder          | NA                   \n",
            " extras_type      | NA                   \n",
            " batting_team     | Royal Challengers... \n",
            " bowling_team     | Mumbai Indians       \n",
            "-RECORD 1--------------------------------\n",
            " match_id         | 419157               \n",
            " inning           | 2                    \n",
            " overs            | 16                   \n",
            " ball             | 5                    \n",
            " batsman          | V Kohli              \n",
            " non_striker      | R Vinay Kumar        \n",
            " bowler           | CRD Fernando         \n",
            " batsman_runs     | 1                    \n",
            " extra_runs       | 0                    \n",
            " total_runs       | 1                    \n",
            " non_boundary     | 0                    \n",
            " is_wicket        | 0                    \n",
            " dismissal_kind   | NA                   \n",
            " player_dismissed | NA                   \n",
            " fielder          | NA                   \n",
            " extras_type      | NA                   \n",
            " batting_team     | Royal Challengers... \n",
            " bowling_team     | Mumbai Indians       \n",
            "-RECORD 2--------------------------------\n",
            " match_id         | 419157               \n",
            " inning           | 2                    \n",
            " overs            | 16                   \n",
            " ball             | 6                    \n",
            " batsman          | R Vinay Kumar        \n",
            " non_striker      | V Kohli              \n",
            " bowler           | CRD Fernando         \n",
            " batsman_runs     | 1                    \n",
            " extra_runs       | 0                    \n",
            " total_runs       | 1                    \n",
            " non_boundary     | 0                    \n",
            " is_wicket        | 0                    \n",
            " dismissal_kind   | NA                   \n",
            " player_dismissed | NA                   \n",
            " fielder          | NA                   \n",
            " extras_type      | NA                   \n",
            " batting_team     | Royal Challengers... \n",
            " bowling_team     | Mumbai Indians       \n",
            "-RECORD 3--------------------------------\n",
            " match_id         | 419157               \n",
            " inning           | 2                    \n",
            " overs            | 17                   \n",
            " ball             | 1                    \n",
            " batsman          | R Vinay Kumar        \n",
            " non_striker      | V Kohli              \n",
            " bowler           | R McLaren            \n",
            " batsman_runs     | 1                    \n",
            " extra_runs       | 0                    \n",
            " total_runs       | 1                    \n",
            " non_boundary     | 0                    \n",
            " is_wicket        | 0                    \n",
            " dismissal_kind   | NA                   \n",
            " player_dismissed | NA                   \n",
            " fielder          | NA                   \n",
            " extras_type      | NA                   \n",
            " batting_team     | Royal Challengers... \n",
            " bowling_team     | Mumbai Indians       \n",
            "-RECORD 4--------------------------------\n",
            " match_id         | 419157               \n",
            " inning           | 2                    \n",
            " overs            | 17                   \n",
            " ball             | 2                    \n",
            " batsman          | V Kohli              \n",
            " non_striker      | R Vinay Kumar        \n",
            " bowler           | R McLaren            \n",
            " batsman_runs     | 1                    \n",
            " extra_runs       | 0                    \n",
            " total_runs       | 1                    \n",
            " non_boundary     | 0                    \n",
            " is_wicket        | 0                    \n",
            " dismissal_kind   | NA                   \n",
            " player_dismissed | NA                   \n",
            " fielder          | NA                   \n",
            " extras_type      | NA                   \n",
            " batting_team     | Royal Challengers... \n",
            " bowling_team     | Mumbai Indians       \n",
            "-RECORD 5--------------------------------\n",
            " match_id         | 419157               \n",
            " inning           | 2                    \n",
            " overs            | 17                   \n",
            " ball             | 3                    \n",
            " batsman          | R Vinay Kumar        \n",
            " non_striker      | V Kohli              \n",
            " bowler           | R McLaren            \n",
            " batsman_runs     | 0                    \n",
            " extra_runs       | 0                    \n",
            " total_runs       | 0                    \n",
            " non_boundary     | 0                    \n",
            " is_wicket        | 0                    \n",
            " dismissal_kind   | NA                   \n",
            " player_dismissed | NA                   \n",
            " fielder          | NA                   \n",
            " extras_type      | NA                   \n",
            " batting_team     | Royal Challengers... \n",
            " bowling_team     | Mumbai Indians       \n",
            "-RECORD 6--------------------------------\n",
            " match_id         | 419157               \n",
            " inning           | 2                    \n",
            " overs            | 17                   \n",
            " ball             | 4                    \n",
            " batsman          | R Vinay Kumar        \n",
            " non_striker      | V Kohli              \n",
            " bowler           | R McLaren            \n",
            " batsman_runs     | 0                    \n",
            " extra_runs       | 0                    \n",
            " total_runs       | 0                    \n",
            " non_boundary     | 0                    \n",
            " is_wicket        | 0                    \n",
            " dismissal_kind   | NA                   \n",
            " player_dismissed | NA                   \n",
            " fielder          | NA                   \n",
            " extras_type      | NA                   \n",
            " batting_team     | Royal Challengers... \n",
            " bowling_team     | Mumbai Indians       \n",
            "-RECORD 7--------------------------------\n",
            " match_id         | 419157               \n",
            " inning           | 2                    \n",
            " overs            | 17                   \n",
            " ball             | 5                    \n",
            " batsman          | R Vinay Kumar        \n",
            " non_striker      | V Kohli              \n",
            " bowler           | R McLaren            \n",
            " batsman_runs     | 1                    \n",
            " extra_runs       | 0                    \n",
            " total_runs       | 1                    \n",
            " non_boundary     | 0                    \n",
            " is_wicket        | 0                    \n",
            " dismissal_kind   | NA                   \n",
            " player_dismissed | NA                   \n",
            " fielder          | NA                   \n",
            " extras_type      | NA                   \n",
            " batting_team     | Royal Challengers... \n",
            " bowling_team     | Mumbai Indians       \n",
            "-RECORD 8--------------------------------\n",
            " match_id         | 419157               \n",
            " inning           | 2                    \n",
            " overs            | 17                   \n",
            " ball             | 6                    \n",
            " batsman          | V Kohli              \n",
            " non_striker      | R Vinay Kumar        \n",
            " bowler           | R McLaren            \n",
            " batsman_runs     | 1                    \n",
            " extra_runs       | 0                    \n",
            " total_runs       | 1                    \n",
            " non_boundary     | 0                    \n",
            " is_wicket        | 0                    \n",
            " dismissal_kind   | NA                   \n",
            " player_dismissed | NA                   \n",
            " fielder          | NA                   \n",
            " extras_type      | NA                   \n",
            " batting_team     | Royal Challengers... \n",
            " bowling_team     | Mumbai Indians       \n",
            "-RECORD 9--------------------------------\n",
            " match_id         | 419157               \n",
            " inning           | 2                    \n",
            " overs            | 18                   \n",
            " ball             | 1                    \n",
            " batsman          | V Kohli              \n",
            " non_striker      | R Vinay Kumar        \n",
            " bowler           | KA Pollard           \n",
            " batsman_runs     | 4                    \n",
            " extra_runs       | 0                    \n",
            " total_runs       | 4                    \n",
            " non_boundary     | 0                    \n",
            " is_wicket        | 0                    \n",
            " dismissal_kind   | NA                   \n",
            " player_dismissed | NA                   \n",
            " fielder          | NA                   \n",
            " extras_type      | NA                   \n",
            " batting_team     | Royal Challengers... \n",
            " bowling_team     | Mumbai Indians       \n",
            "-RECORD 10-------------------------------\n",
            " match_id         | 419157               \n",
            " inning           | 2                    \n",
            " overs            | 18                   \n",
            " ball             | 2                    \n",
            " batsman          | V Kohli              \n",
            " non_striker      | R Vinay Kumar        \n",
            " bowler           | KA Pollard           \n",
            " batsman_runs     | 0                    \n",
            " extra_runs       | 0                    \n",
            " total_runs       | 0                    \n",
            " non_boundary     | 0                    \n",
            " is_wicket        | 1                    \n",
            " dismissal_kind   | caught               \n",
            " player_dismissed | V Kohli              \n",
            " fielder          | AP Tare              \n",
            " extras_type      | NA                   \n",
            " batting_team     | Royal Challengers... \n",
            " bowling_team     | Mumbai Indians       \n",
            "-RECORD 11-------------------------------\n",
            " match_id         | 419157               \n",
            " inning           | 2                    \n",
            " overs            | 18                   \n",
            " ball             | 3                    \n",
            " batsman          | R Vinay Kumar        \n",
            " non_striker      | Pankaj Singh         \n",
            " bowler           | KA Pollard           \n",
            " batsman_runs     | 0                    \n",
            " extra_runs       | 1                    \n",
            " total_runs       | 1                    \n",
            " non_boundary     | 0                    \n",
            " is_wicket        | 0                    \n",
            " dismissal_kind   | NA                   \n",
            " player_dismissed | NA                   \n",
            " fielder          | NA                   \n",
            " extras_type      | wides                \n",
            " batting_team     | Royal Challengers... \n",
            " bowling_team     | Mumbai Indians       \n",
            "-RECORD 12-------------------------------\n",
            " match_id         | 419157               \n",
            " inning           | 2                    \n",
            " overs            | 18                   \n",
            " ball             | 4                    \n",
            " batsman          | R Vinay Kumar        \n",
            " non_striker      | Pankaj Singh         \n",
            " bowler           | KA Pollard           \n",
            " batsman_runs     | 1                    \n",
            " extra_runs       | 0                    \n",
            " total_runs       | 1                    \n",
            " non_boundary     | 0                    \n",
            " is_wicket        | 0                    \n",
            " dismissal_kind   | NA                   \n",
            " player_dismissed | NA                   \n",
            " fielder          | NA                   \n",
            " extras_type      | NA                   \n",
            " batting_team     | Royal Challengers... \n",
            " bowling_team     | Mumbai Indians       \n",
            "-RECORD 13-------------------------------\n",
            " match_id         | 419157               \n",
            " inning           | 2                    \n",
            " overs            | 18                   \n",
            " ball             | 5                    \n",
            " batsman          | Pankaj Singh         \n",
            " non_striker      | R Vinay Kumar        \n",
            " bowler           | KA Pollard           \n",
            " batsman_runs     | 1                    \n",
            " extra_runs       | 0                    \n",
            " total_runs       | 1                    \n",
            " non_boundary     | 0                    \n",
            " is_wicket        | 0                    \n",
            " dismissal_kind   | NA                   \n",
            " player_dismissed | NA                   \n",
            " fielder          | NA                   \n",
            " extras_type      | NA                   \n",
            " batting_team     | Royal Challengers... \n",
            " bowling_team     | Mumbai Indians       \n",
            "-RECORD 14-------------------------------\n",
            " match_id         | 419157               \n",
            " inning           | 2                    \n",
            " overs            | 18                   \n",
            " ball             | 6                    \n",
            " batsman          | R Vinay Kumar        \n",
            " non_striker      | Pankaj Singh         \n",
            " bowler           | KA Pollard           \n",
            " batsman_runs     | 1                    \n",
            " extra_runs       | 0                    \n",
            " total_runs       | 1                    \n",
            " non_boundary     | 0                    \n",
            " is_wicket        | 0                    \n",
            " dismissal_kind   | NA                   \n",
            " player_dismissed | NA                   \n",
            " fielder          | NA                   \n",
            " extras_type      | NA                   \n",
            " batting_team     | Royal Challengers... \n",
            " bowling_team     | Mumbai Indians       \n",
            "-RECORD 15-------------------------------\n",
            " match_id         | 419157               \n",
            " inning           | 2                    \n",
            " overs            | 18                   \n",
            " ball             | 7                    \n",
            " batsman          | Pankaj Singh         \n",
            " non_striker      | R Vinay Kumar        \n",
            " bowler           | KA Pollard           \n",
            " batsman_runs     | 0                    \n",
            " extra_runs       | 0                    \n",
            " total_runs       | 0                    \n",
            " non_boundary     | 0                    \n",
            " is_wicket        | 1                    \n",
            " dismissal_kind   | caught               \n",
            " player_dismissed | Pankaj Singh         \n",
            " fielder          | Z Khan               \n",
            " extras_type      | NA                   \n",
            " batting_team     | Royal Challengers... \n",
            " bowling_team     | Mumbai Indians       \n",
            "-RECORD 16-------------------------------\n",
            " match_id         | 419157               \n",
            " inning           | 2                    \n",
            " overs            | 19                   \n",
            " ball             | 1                    \n",
            " batsman          | A Kumble             \n",
            " non_striker      | R Vinay Kumar        \n",
            " bowler           | R McLaren            \n",
            " batsman_runs     | 0                    \n",
            " extra_runs       | 0                    \n",
            " total_runs       | 0                    \n",
            " non_boundary     | 0                    \n",
            " is_wicket        | 0                    \n",
            " dismissal_kind   | NA                   \n",
            " player_dismissed | NA                   \n",
            " fielder          | NA                   \n",
            " extras_type      | NA                   \n",
            " batting_team     | Royal Challengers... \n",
            " bowling_team     | Mumbai Indians       \n",
            "-RECORD 17-------------------------------\n",
            " match_id         | 419157               \n",
            " inning           | 1                    \n",
            " overs            | 0                    \n",
            " ball             | 1                    \n",
            " batsman          | R McLaren            \n",
            " non_striker      | SR Tendulkar         \n",
            " bowler           | DW Steyn             \n",
            " batsman_runs     | 1                    \n",
            " extra_runs       | 0                    \n",
            " total_runs       | 1                    \n",
            " non_boundary     | 0                    \n",
            " is_wicket        | 0                    \n",
            " dismissal_kind   | NA                   \n",
            " player_dismissed | NA                   \n",
            " fielder          | NA                   \n",
            " extras_type      | NA                   \n",
            " batting_team     | Mumbai Indians       \n",
            " bowling_team     | Royal Challengers... \n",
            "-RECORD 18-------------------------------\n",
            " match_id         | 419157               \n",
            " inning           | 1                    \n",
            " overs            | 0                    \n",
            " ball             | 2                    \n",
            " batsman          | SR Tendulkar         \n",
            " non_striker      | R McLaren            \n",
            " bowler           | DW Steyn             \n",
            " batsman_runs     | 0                    \n",
            " extra_runs       | 0                    \n",
            " total_runs       | 0                    \n",
            " non_boundary     | 0                    \n",
            " is_wicket        | 0                    \n",
            " dismissal_kind   | NA                   \n",
            " player_dismissed | NA                   \n",
            " fielder          | NA                   \n",
            " extras_type      | NA                   \n",
            " batting_team     | Mumbai Indians       \n",
            " bowling_team     | Royal Challengers... \n",
            "-RECORD 19-------------------------------\n",
            " match_id         | 419157               \n",
            " inning           | 1                    \n",
            " overs            | 0                    \n",
            " ball             | 3                    \n",
            " batsman          | SR Tendulkar         \n",
            " non_striker      | R McLaren            \n",
            " bowler           | DW Steyn             \n",
            " batsman_runs     | 1                    \n",
            " extra_runs       | 0                    \n",
            " total_runs       | 1                    \n",
            " non_boundary     | 0                    \n",
            " is_wicket        | 0                    \n",
            " dismissal_kind   | NA                   \n",
            " player_dismissed | NA                   \n",
            " fielder          | NA                   \n",
            " extras_type      | NA                   \n",
            " batting_team     | Mumbai Indians       \n",
            " bowling_team     | Royal Challengers... \n",
            "only showing top 20 rows\n",
            "\n"
          ]
        }
      ]
    },
    {
      "cell_type": "code",
      "source": [
        "df1.show()"
      ],
      "metadata": {
        "colab": {
          "base_uri": "https://localhost:8080/"
        },
        "id": "SIaQ-2RpR8V6",
        "outputId": "ccf2274f-dd66-4c29-e59b-f683736250eb"
      },
      "execution_count": null,
      "outputs": [
        {
          "output_type": "stream",
          "name": "stdout",
          "text": [
            "+--------+----------+---------------+--------+-------------+--------------------+--------------------+--------------------+-------------+--------------------+-------+-------------+----------+------+-----------+--------------+\n",
            "|match_id|      date|player_of_match|venue_id|neutral_venue|               team1|               team2|         toss_winner|toss_decision|              winner| result|result_margin|eliminator|method|    umpire1|       umpire2|\n",
            "+--------+----------+---------------+--------+-------------+--------------------+--------------------+--------------------+-------------+--------------------+-------+-------------+----------+------+-----------+--------------+\n",
            "|  335982|2008-04-18|    BB McCullum|      35|            0|Royal Challengers...|Kolkata Knight Ri...|Royal Challengers...|        field|Kolkata Knight Ri...|   runs|          140|         N|    NA|  Asad Rauf|   RE Koertzen|\n",
            "|  335983|2008-04-19|     MEK Hussey|      31|            0|     Kings XI Punjab| Chennai Super Kings| Chennai Super Kings|          bat| Chennai Super Kings|   runs|           33|         N|    NA|  MR Benson|    SL Shastri|\n",
            "|  335984|2008-04-19|    MF Maharoof|      27|            0|    Delhi Daredevils|    Rajasthan Royals|    Rajasthan Royals|          bat|    Delhi Daredevils|wickets|            9|         N|    NA|  Aleem Dar|GA Pratapkumar|\n",
            "|  335985|2008-04-20|     MV Boucher|      14|            0|      Mumbai Indians|Royal Challengers...|      Mumbai Indians|          bat|Royal Challengers...|wickets|            5|         N|    NA|   SJ Davis|     DJ Harper|\n",
            "|  335986|2008-04-20|      DJ Hussey|      15|            0|Kolkata Knight Ri...|     Deccan Chargers|     Deccan Chargers|          bat|Kolkata Knight Ri...|wickets|            5|         N|    NA|  BF Bowden|   K Hariharan|\n",
            "|  335987|2008-04-21|      SR Watson|      20|            0|    Rajasthan Royals|     Kings XI Punjab|     Kings XI Punjab|          bat|    Rajasthan Royals|wickets|            6|         N|    NA|  Aleem Dar|     RB Tiffin|\n",
            "|  335988|2008-04-22|       V Sehwag|      22|            0|     Deccan Chargers|    Delhi Daredevils|     Deccan Chargers|          bat|    Delhi Daredevils|wickets|            9|         N|    NA|  IL Howell|     AM Saheba|\n",
            "|  335989|2008-04-23|      ML Hayden|      29|            0| Chennai Super Kings|      Mumbai Indians|      Mumbai Indians|        field| Chennai Super Kings|   runs|            6|         N|    NA|  DJ Harper|GA Pratapkumar|\n",
            "|  335990|2008-04-24|      YK Pathan|      22|            0|     Deccan Chargers|    Rajasthan Royals|    Rajasthan Royals|        field|    Rajasthan Royals|wickets|            3|         N|    NA|  Asad Rauf|     MR Benson|\n",
            "|  335991|2008-04-25|  KC Sangakkara|      31|            0|     Kings XI Punjab|      Mumbai Indians|      Mumbai Indians|        field|     Kings XI Punjab|   runs|           66|         N|    NA|  Aleem Dar|     AM Saheba|\n",
            "|  335992|2008-04-26|      SR Watson|      35|            0|Royal Challengers...|    Rajasthan Royals|    Rajasthan Royals|        field|    Rajasthan Royals|wickets|            7|         N|    NA|  MR Benson|     IL Howell|\n",
            "|  335993|2008-04-26|       JDP Oram|      29|            0| Chennai Super Kings|Kolkata Knight Ri...|Kolkata Knight Ri...|          bat| Chennai Super Kings|wickets|            9|         N|    NA|  BF Bowden|AV Jayaprakash|\n",
            "|  335994|2008-04-27|   AC Gilchrist|      13|            0|      Mumbai Indians|     Deccan Chargers|     Deccan Chargers|        field|     Deccan Chargers|wickets|           10|         N|    NA|  Asad Rauf|    SL Shastri|\n",
            "|  335995|2008-04-27|      SM Katich|      31|            0|     Kings XI Punjab|    Delhi Daredevils|    Delhi Daredevils|          bat|     Kings XI Punjab|wickets|            4|         N|    NA|RE Koertzen|     I Shivram|\n",
            "|  335996|2008-04-28|       MS Dhoni|      35|            0|Royal Challengers...| Chennai Super Kings| Chennai Super Kings|          bat| Chennai Super Kings|   runs|           13|         N|    NA|BR Doctrove|     RB Tiffin|\n",
            "|  335997|2008-04-29|  ST Jayasuriya|      15|            0|Kolkata Knight Ri...|      Mumbai Indians|Kolkata Knight Ri...|          bat|      Mumbai Indians|wickets|            7|         N|    NA|  BF Bowden|AV Jayaprakash|\n",
            "|  335998|2008-04-30|     GD McGrath|      27|            0|    Delhi Daredevils|Royal Challengers...|Royal Challengers...|        field|    Delhi Daredevils|   runs|           10|         N|    NA|  Aleem Dar|     I Shivram|\n",
            "|  335999|2008-05-01|       SE Marsh|      22|            0|     Deccan Chargers|     Kings XI Punjab|     Kings XI Punjab|        field|     Kings XI Punjab|wickets|            7|         N|    NA|BR Doctrove|     RB Tiffin|\n",
            "|  336000|2008-05-01|    SA Asnodkar|      20|            0|    Rajasthan Royals|Kolkata Knight Ri...|    Rajasthan Royals|          bat|    Rajasthan Royals|   runs|           45|         N|    NA|RE Koertzen|GA Pratapkumar|\n",
            "|  336001|2008-05-02|       V Sehwag|      29|            0| Chennai Super Kings|    Delhi Daredevils| Chennai Super Kings|          bat|    Delhi Daredevils|wickets|            8|         N|    NA|  BF Bowden|   K Hariharan|\n",
            "+--------+----------+---------------+--------+-------------+--------------------+--------------------+--------------------+-------------+--------------------+-------+-------------+----------+------+-----------+--------------+\n",
            "only showing top 20 rows\n",
            "\n"
          ]
        }
      ]
    },
    {
      "cell_type": "code",
      "source": [
        "df2.show()"
      ],
      "metadata": {
        "colab": {
          "base_uri": "https://localhost:8080/"
        },
        "id": "pZmfedkbRuax",
        "outputId": "ce34fff3-9e8f-41d0-a018-cd473e183017"
      },
      "execution_count": null,
      "outputs": [
        {
          "output_type": "stream",
          "name": "stdout",
          "text": [
            "+--------+--------------------+--------------+\n",
            "|venue_id|               venue|          city|\n",
            "+--------+--------------------+--------------+\n",
            "|       1|Dr. Y.S. Rajasekh...| Visakhapatnam|\n",
            "|       2|Sharjah Cricket S...|       Sharjah|\n",
            "|       3|JSCA Internationa...|        Ranchi|\n",
            "|       4|Saurashtra Cricke...|        Rajkot|\n",
            "|       5|Shaheed Veer Nara...|        Raipur|\n",
            "|       6|Maharashtra Crick...|          Pune|\n",
            "|       7|Subrata Roy Sahar...|          Pune|\n",
            "|       8|    St George's Park|Port Elizabeth|\n",
            "|       9|Vidarbha Cricket ...|        Nagpur|\n",
            "|      12|   Brabourne Stadium|        Mumbai|\n",
            "|      13|Dr DY Patil Sport...|        Mumbai|\n",
            "|      14|    Wankhede Stadium|        Mumbai|\n",
            "|      15|        Eden Gardens|       Kolkata|\n",
            "|      16|       Nehru Stadium|         Kochi|\n",
            "|      17|De Beers Diamond ...|     Kimberley|\n",
            "|      18|          Green Park|        Kanpur|\n",
            "|      19|New Wanderers Sta...|  Johannesburg|\n",
            "|      20|Sawai Mansingh St...|        Jaipur|\n",
            "|      21|Holkar Cricket St...|        Indore|\n",
            "|      22|Rajiv Gandhi Inte...|     Hyderabad|\n",
            "+--------+--------------------+--------------+\n",
            "only showing top 20 rows\n",
            "\n"
          ]
        }
      ]
    },
    {
      "cell_type": "code",
      "source": [
        "df.printSchema()"
      ],
      "metadata": {
        "colab": {
          "base_uri": "https://localhost:8080/"
        },
        "id": "Kap_eQ9aRzsq",
        "outputId": "e1c3b229-528b-4b94-89f6-86136174457b"
      },
      "execution_count": null,
      "outputs": [
        {
          "output_type": "stream",
          "name": "stdout",
          "text": [
            "root\n",
            " |-- match_id: integer (nullable = true)\n",
            " |-- inning: integer (nullable = true)\n",
            " |-- overs: integer (nullable = true)\n",
            " |-- ball: integer (nullable = true)\n",
            " |-- batsman: string (nullable = true)\n",
            " |-- non_striker: string (nullable = true)\n",
            " |-- bowler: string (nullable = true)\n",
            " |-- batsman_runs: integer (nullable = true)\n",
            " |-- extra_runs: integer (nullable = true)\n",
            " |-- total_runs: integer (nullable = true)\n",
            " |-- non_boundary: integer (nullable = true)\n",
            " |-- is_wicket: integer (nullable = true)\n",
            " |-- dismissal_kind: string (nullable = true)\n",
            " |-- player_dismissed: string (nullable = true)\n",
            " |-- fielder: string (nullable = true)\n",
            " |-- extras_type: string (nullable = true)\n",
            " |-- batting_team: string (nullable = true)\n",
            " |-- bowling_team: string (nullable = true)\n",
            "\n"
          ]
        }
      ]
    },
    {
      "cell_type": "code",
      "source": [
        "df.show()"
      ],
      "metadata": {
        "id": "csGXHEs_VrIJ",
        "outputId": "8e0b2842-b410-47d2-c431-754b01148be3",
        "colab": {
          "base_uri": "https://localhost:8080/"
        }
      },
      "execution_count": null,
      "outputs": [
        {
          "output_type": "stream",
          "name": "stdout",
          "text": [
            "+--------+------+-----+----+-------------+-------------+------------+------------+----------+----------+------------+---------+--------------+----------------+-------+-----------+--------------------+--------------------+\n",
            "|match_id|inning|overs|ball|      batsman|  non_striker|      bowler|batsman_runs|extra_runs|total_runs|non_boundary|is_wicket|dismissal_kind|player_dismissed|fielder|extras_type|        batting_team|        bowling_team|\n",
            "+--------+------+-----+----+-------------+-------------+------------+------------+----------+----------+------------+---------+--------------+----------------+-------+-----------+--------------------+--------------------+\n",
            "|  419157|     2|   16|   4|      V Kohli|R Vinay Kumar|CRD Fernando|           0|         0|         0|           0|        0|            NA|              NA|     NA|         NA|Royal Challengers...|      Mumbai Indians|\n",
            "|  419157|     2|   16|   5|      V Kohli|R Vinay Kumar|CRD Fernando|           1|         0|         1|           0|        0|            NA|              NA|     NA|         NA|Royal Challengers...|      Mumbai Indians|\n",
            "|  419157|     2|   16|   6|R Vinay Kumar|      V Kohli|CRD Fernando|           1|         0|         1|           0|        0|            NA|              NA|     NA|         NA|Royal Challengers...|      Mumbai Indians|\n",
            "|  419157|     2|   17|   1|R Vinay Kumar|      V Kohli|   R McLaren|           1|         0|         1|           0|        0|            NA|              NA|     NA|         NA|Royal Challengers...|      Mumbai Indians|\n",
            "|  419157|     2|   17|   2|      V Kohli|R Vinay Kumar|   R McLaren|           1|         0|         1|           0|        0|            NA|              NA|     NA|         NA|Royal Challengers...|      Mumbai Indians|\n",
            "|  419157|     2|   17|   3|R Vinay Kumar|      V Kohli|   R McLaren|           0|         0|         0|           0|        0|            NA|              NA|     NA|         NA|Royal Challengers...|      Mumbai Indians|\n",
            "|  419157|     2|   17|   4|R Vinay Kumar|      V Kohli|   R McLaren|           0|         0|         0|           0|        0|            NA|              NA|     NA|         NA|Royal Challengers...|      Mumbai Indians|\n",
            "|  419157|     2|   17|   5|R Vinay Kumar|      V Kohli|   R McLaren|           1|         0|         1|           0|        0|            NA|              NA|     NA|         NA|Royal Challengers...|      Mumbai Indians|\n",
            "|  419157|     2|   17|   6|      V Kohli|R Vinay Kumar|   R McLaren|           1|         0|         1|           0|        0|            NA|              NA|     NA|         NA|Royal Challengers...|      Mumbai Indians|\n",
            "|  419157|     2|   18|   1|      V Kohli|R Vinay Kumar|  KA Pollard|           4|         0|         4|           0|        0|            NA|              NA|     NA|         NA|Royal Challengers...|      Mumbai Indians|\n",
            "|  419157|     2|   18|   2|      V Kohli|R Vinay Kumar|  KA Pollard|           0|         0|         0|           0|        1|        caught|         V Kohli|AP Tare|         NA|Royal Challengers...|      Mumbai Indians|\n",
            "|  419157|     2|   18|   3|R Vinay Kumar| Pankaj Singh|  KA Pollard|           0|         1|         1|           0|        0|            NA|              NA|     NA|      wides|Royal Challengers...|      Mumbai Indians|\n",
            "|  419157|     2|   18|   4|R Vinay Kumar| Pankaj Singh|  KA Pollard|           1|         0|         1|           0|        0|            NA|              NA|     NA|         NA|Royal Challengers...|      Mumbai Indians|\n",
            "|  419157|     2|   18|   5| Pankaj Singh|R Vinay Kumar|  KA Pollard|           1|         0|         1|           0|        0|            NA|              NA|     NA|         NA|Royal Challengers...|      Mumbai Indians|\n",
            "|  419157|     2|   18|   6|R Vinay Kumar| Pankaj Singh|  KA Pollard|           1|         0|         1|           0|        0|            NA|              NA|     NA|         NA|Royal Challengers...|      Mumbai Indians|\n",
            "|  419157|     2|   18|   7| Pankaj Singh|R Vinay Kumar|  KA Pollard|           0|         0|         0|           0|        1|        caught|    Pankaj Singh| Z Khan|         NA|Royal Challengers...|      Mumbai Indians|\n",
            "|  419157|     2|   19|   1|     A Kumble|R Vinay Kumar|   R McLaren|           0|         0|         0|           0|        0|            NA|              NA|     NA|         NA|Royal Challengers...|      Mumbai Indians|\n",
            "|  419157|     1|    0|   1|    R McLaren| SR Tendulkar|    DW Steyn|           1|         0|         1|           0|        0|            NA|              NA|     NA|         NA|      Mumbai Indians|Royal Challengers...|\n",
            "|  419157|     1|    0|   2| SR Tendulkar|    R McLaren|    DW Steyn|           0|         0|         0|           0|        0|            NA|              NA|     NA|         NA|      Mumbai Indians|Royal Challengers...|\n",
            "|  419157|     1|    0|   3| SR Tendulkar|    R McLaren|    DW Steyn|           1|         0|         1|           0|        0|            NA|              NA|     NA|         NA|      Mumbai Indians|Royal Challengers...|\n",
            "+--------+------+-----+----+-------------+-------------+------------+------------+----------+----------+------------+---------+--------------+----------------+-------+-----------+--------------------+--------------------+\n",
            "only showing top 20 rows\n",
            "\n"
          ]
        }
      ]
    },
    {
      "cell_type": "code",
      "source": [
        "from pyspark.sql.types import IntegerType\n",
        "df=df.withColumn(\"is_wicket\",df['is_wicket'].cast(IntegerType()))\n",
        "df=df.withColumn(\"batsman_runs\",df[\"batsman_runs\"].cast(IntegerType()))\n",
        "df=df.withColumn(\"extra_runs\",df[\"extra_runs\"].cast(IntegerType()))\n",
        "df=df.withColumn(\"total_runs\",df[\"total_runs\"].cast(IntegerType()))"
      ],
      "metadata": {
        "id": "Vy4NbzSzSgmJ"
      },
      "execution_count": null,
      "outputs": []
    },
    {
      "cell_type": "code",
      "source": [
        "df.summary().show(vertical=True)"
      ],
      "metadata": {
        "colab": {
          "base_uri": "https://localhost:8080/"
        },
        "id": "uVFR4UJqUeHV",
        "outputId": "6c762db6-8f2f-4c6e-e10c-5a8b2c6e4a2a"
      },
      "execution_count": null,
      "outputs": [
        {
          "output_type": "stream",
          "name": "stdout",
          "text": [
            "-RECORD 0--------------------------------\n",
            " summary          | count                \n",
            " match_id         | 193468               \n",
            " inning           | 193468               \n",
            " overs            | 193468               \n",
            " ball             | 193468               \n",
            " batsman          | 193468               \n",
            " non_striker      | 193468               \n",
            " bowler           | 193468               \n",
            " batsman_runs     | 193468               \n",
            " extra_runs       | 193468               \n",
            " total_runs       | 193468               \n",
            " non_boundary     | 193468               \n",
            " is_wicket        | 193468               \n",
            " dismissal_kind   | 193468               \n",
            " player_dismissed | 193468               \n",
            " fielder          | 193468               \n",
            " extras_type      | 193468               \n",
            " batting_team     | 193468               \n",
            " bowling_team     | 193468               \n",
            "-RECORD 1--------------------------------\n",
            " summary          | mean                 \n",
            " match_id         | 756768.8084386048    \n",
            " inning           | 1.4821314119130813   \n",
            " overs            | 9.17702669175264     \n",
            " ball             | 3.615967498501044    \n",
            " batsman          | null                 \n",
            " non_striker      | null                 \n",
            " bowler           | null                 \n",
            " batsman_runs     | 1.2402309425848201   \n",
            " extra_runs       | 0.06641408398288089  \n",
            " total_runs       | 1.3066450265677012   \n",
            " non_boundary     | 8.270101515496103E-5 \n",
            " is_wicket        | 0.049077883681022186 \n",
            " dismissal_kind   | null                 \n",
            " player_dismissed | null                 \n",
            " fielder          | null                 \n",
            " extras_type      | null                 \n",
            " batting_team     | null                 \n",
            " bowling_team     | null                 \n",
            "-RECORD 2--------------------------------\n",
            " summary          | stddev               \n",
            " match_id         | 306097.0914176293    \n",
            " inning           | 0.49968190293373455  \n",
            " overs            | 5.676847894661752    \n",
            " ball             | 1.8071276073795755   \n",
            " batsman          | null                 \n",
            " non_striker      | null                 \n",
            " bowler           | null                 \n",
            " batsman_runs     | 1.6108665520479686   \n",
            " extra_runs       | 0.33999133626666694  \n",
            " total_runs       | 1.598801764933192    \n",
            " non_boundary     | 0.009093657302209582 \n",
            " is_wicket        | 0.21603121589317276  \n",
            " dismissal_kind   | null                 \n",
            " player_dismissed | null                 \n",
            " fielder          | null                 \n",
            " extras_type      | null                 \n",
            " batting_team     | null                 \n",
            " bowling_team     | null                 \n",
            "-RECORD 3--------------------------------\n",
            " summary          | min                  \n",
            " match_id         | 335982               \n",
            " inning           | 1                    \n",
            " overs            | 0                    \n",
            " ball             | 1                    \n",
            " batsman          | A Ashish Reddy       \n",
            " non_striker      | A Ashish Reddy       \n",
            " bowler           | A Ashish Reddy       \n",
            " batsman_runs     | 0                    \n",
            " extra_runs       | 0                    \n",
            " total_runs       | 0                    \n",
            " non_boundary     | 0                    \n",
            " is_wicket        | 0                    \n",
            " dismissal_kind   | NA                   \n",
            " player_dismissed | A Ashish Reddy       \n",
            " fielder          | A Ashish Reddy       \n",
            " extras_type      | NA                   \n",
            " batting_team     | Chennai Super Kings  \n",
            " bowling_team     | Chennai Super Kings  \n",
            "-RECORD 4--------------------------------\n",
            " summary          | 25%                  \n",
            " match_id         | 501227               \n",
            " inning           | 1                    \n",
            " overs            | 4                    \n",
            " ball             | 2                    \n",
            " batsman          | null                 \n",
            " non_striker      | null                 \n",
            " bowler           | null                 \n",
            " batsman_runs     | 0                    \n",
            " extra_runs       | 0                    \n",
            " total_runs       | 0                    \n",
            " non_boundary     | 0                    \n",
            " is_wicket        | 0                    \n",
            " dismissal_kind   | null                 \n",
            " player_dismissed | null                 \n",
            " fielder          | null                 \n",
            " extras_type      | null                 \n",
            " batting_team     | null                 \n",
            " bowling_team     | null                 \n",
            "-RECORD 5--------------------------------\n",
            " summary          | 50%                  \n",
            " match_id         | 729297               \n",
            " inning           | 1                    \n",
            " overs            | 9                    \n",
            " ball             | 4                    \n",
            " batsman          | null                 \n",
            " non_striker      | null                 \n",
            " bowler           | null                 \n",
            " batsman_runs     | 1                    \n",
            " extra_runs       | 0                    \n",
            " total_runs       | 1                    \n",
            " non_boundary     | 0                    \n",
            " is_wicket        | 0                    \n",
            " dismissal_kind   | null                 \n",
            " player_dismissed | null                 \n",
            " fielder          | null                 \n",
            " extras_type      | null                 \n",
            " batting_team     | null                 \n",
            " bowling_team     | null                 \n",
            "-RECORD 6--------------------------------\n",
            " summary          | 75%                  \n",
            " match_id         | 1082628              \n",
            " inning           | 2                    \n",
            " overs            | 14                   \n",
            " ball             | 5                    \n",
            " batsman          | null                 \n",
            " non_striker      | null                 \n",
            " bowler           | null                 \n",
            " batsman_runs     | 1                    \n",
            " extra_runs       | 0                    \n",
            " total_runs       | 1                    \n",
            " non_boundary     | 0                    \n",
            " is_wicket        | 0                    \n",
            " dismissal_kind   | null                 \n",
            " player_dismissed | null                 \n",
            " fielder          | null                 \n",
            " extras_type      | null                 \n",
            " batting_team     | null                 \n",
            " bowling_team     | null                 \n",
            "-RECORD 7--------------------------------\n",
            " summary          | max                  \n",
            " match_id         | 1237181              \n",
            " inning           | 2                    \n",
            " overs            | 19                   \n",
            " ball             | 9                    \n",
            " batsman          | Z Khan               \n",
            " non_striker      | Z Khan               \n",
            " bowler           | Z Khan               \n",
            " batsman_runs     | 6                    \n",
            " extra_runs       | 7                    \n",
            " total_runs       | 7                    \n",
            " non_boundary     | 1                    \n",
            " is_wicket        | 1                    \n",
            " dismissal_kind   | stumped              \n",
            " player_dismissed | Z Khan               \n",
            " fielder          | Z Khan,Q de Kock     \n",
            " extras_type      | wides                \n",
            " batting_team     | Sunrisers Hyderabad  \n",
            " bowling_team     | Sunrisers Hyderabad  \n",
            "\n"
          ]
        }
      ]
    },
    {
      "cell_type": "code",
      "source": [
        "df.show()"
      ],
      "metadata": {
        "colab": {
          "base_uri": "https://localhost:8080/"
        },
        "id": "22gah2ZxUf-4",
        "outputId": "9093c655-e761-42a7-a42d-7cb1e4735a71"
      },
      "execution_count": null,
      "outputs": [
        {
          "output_type": "stream",
          "name": "stdout",
          "text": [
            "+--------+------+-----+----+-------------+-------------+------------+------------+----------+----------+------------+---------+--------------+----------------+-------+-----------+--------------------+--------------------+\n",
            "|match_id|inning|overs|ball|      batsman|  non_striker|      bowler|batsman_runs|extra_runs|total_runs|non_boundary|is_wicket|dismissal_kind|player_dismissed|fielder|extras_type|        batting_team|        bowling_team|\n",
            "+--------+------+-----+----+-------------+-------------+------------+------------+----------+----------+------------+---------+--------------+----------------+-------+-----------+--------------------+--------------------+\n",
            "|  419157|     2|   16|   4|      V Kohli|R Vinay Kumar|CRD Fernando|           0|         0|         0|           0|        0|            NA|              NA|     NA|         NA|Royal Challengers...|      Mumbai Indians|\n",
            "|  419157|     2|   16|   5|      V Kohli|R Vinay Kumar|CRD Fernando|           1|         0|         1|           0|        0|            NA|              NA|     NA|         NA|Royal Challengers...|      Mumbai Indians|\n",
            "|  419157|     2|   16|   6|R Vinay Kumar|      V Kohli|CRD Fernando|           1|         0|         1|           0|        0|            NA|              NA|     NA|         NA|Royal Challengers...|      Mumbai Indians|\n",
            "|  419157|     2|   17|   1|R Vinay Kumar|      V Kohli|   R McLaren|           1|         0|         1|           0|        0|            NA|              NA|     NA|         NA|Royal Challengers...|      Mumbai Indians|\n",
            "|  419157|     2|   17|   2|      V Kohli|R Vinay Kumar|   R McLaren|           1|         0|         1|           0|        0|            NA|              NA|     NA|         NA|Royal Challengers...|      Mumbai Indians|\n",
            "|  419157|     2|   17|   3|R Vinay Kumar|      V Kohli|   R McLaren|           0|         0|         0|           0|        0|            NA|              NA|     NA|         NA|Royal Challengers...|      Mumbai Indians|\n",
            "|  419157|     2|   17|   4|R Vinay Kumar|      V Kohli|   R McLaren|           0|         0|         0|           0|        0|            NA|              NA|     NA|         NA|Royal Challengers...|      Mumbai Indians|\n",
            "|  419157|     2|   17|   5|R Vinay Kumar|      V Kohli|   R McLaren|           1|         0|         1|           0|        0|            NA|              NA|     NA|         NA|Royal Challengers...|      Mumbai Indians|\n",
            "|  419157|     2|   17|   6|      V Kohli|R Vinay Kumar|   R McLaren|           1|         0|         1|           0|        0|            NA|              NA|     NA|         NA|Royal Challengers...|      Mumbai Indians|\n",
            "|  419157|     2|   18|   1|      V Kohli|R Vinay Kumar|  KA Pollard|           4|         0|         4|           0|        0|            NA|              NA|     NA|         NA|Royal Challengers...|      Mumbai Indians|\n",
            "|  419157|     2|   18|   2|      V Kohli|R Vinay Kumar|  KA Pollard|           0|         0|         0|           0|        1|        caught|         V Kohli|AP Tare|         NA|Royal Challengers...|      Mumbai Indians|\n",
            "|  419157|     2|   18|   3|R Vinay Kumar| Pankaj Singh|  KA Pollard|           0|         1|         1|           0|        0|            NA|              NA|     NA|      wides|Royal Challengers...|      Mumbai Indians|\n",
            "|  419157|     2|   18|   4|R Vinay Kumar| Pankaj Singh|  KA Pollard|           1|         0|         1|           0|        0|            NA|              NA|     NA|         NA|Royal Challengers...|      Mumbai Indians|\n",
            "|  419157|     2|   18|   5| Pankaj Singh|R Vinay Kumar|  KA Pollard|           1|         0|         1|           0|        0|            NA|              NA|     NA|         NA|Royal Challengers...|      Mumbai Indians|\n",
            "|  419157|     2|   18|   6|R Vinay Kumar| Pankaj Singh|  KA Pollard|           1|         0|         1|           0|        0|            NA|              NA|     NA|         NA|Royal Challengers...|      Mumbai Indians|\n",
            "|  419157|     2|   18|   7| Pankaj Singh|R Vinay Kumar|  KA Pollard|           0|         0|         0|           0|        1|        caught|    Pankaj Singh| Z Khan|         NA|Royal Challengers...|      Mumbai Indians|\n",
            "|  419157|     2|   19|   1|     A Kumble|R Vinay Kumar|   R McLaren|           0|         0|         0|           0|        0|            NA|              NA|     NA|         NA|Royal Challengers...|      Mumbai Indians|\n",
            "|  419157|     1|    0|   1|    R McLaren| SR Tendulkar|    DW Steyn|           1|         0|         1|           0|        0|            NA|              NA|     NA|         NA|      Mumbai Indians|Royal Challengers...|\n",
            "|  419157|     1|    0|   2| SR Tendulkar|    R McLaren|    DW Steyn|           0|         0|         0|           0|        0|            NA|              NA|     NA|         NA|      Mumbai Indians|Royal Challengers...|\n",
            "|  419157|     1|    0|   3| SR Tendulkar|    R McLaren|    DW Steyn|           1|         0|         1|           0|        0|            NA|              NA|     NA|         NA|      Mumbai Indians|Royal Challengers...|\n",
            "+--------+------+-----+----+-------------+-------------+------------+------------+----------+----------+------------+---------+--------------+----------------+-------+-----------+--------------------+--------------------+\n",
            "only showing top 20 rows\n",
            "\n"
          ]
        }
      ]
    },
    {
      "cell_type": "code",
      "source": [
        ""
      ],
      "metadata": {
        "id": "cVHKHGE159zq"
      },
      "execution_count": null,
      "outputs": []
    },
    {
      "cell_type": "code",
      "source": [
        "df.select('extras_type').distinct().show()"
      ],
      "metadata": {
        "colab": {
          "base_uri": "https://localhost:8080/"
        },
        "id": "ErhTsk7QVU5V",
        "outputId": "58c6c81a-84da-4857-80d5-f4ffd459ba4c"
      },
      "execution_count": null,
      "outputs": [
        {
          "output_type": "stream",
          "name": "stdout",
          "text": [
            "+-----------+\n",
            "|extras_type|\n",
            "+-----------+\n",
            "|         NA|\n",
            "|    noballs|\n",
            "|      wides|\n",
            "|       byes|\n",
            "|    legbyes|\n",
            "|    penalty|\n",
            "+-----------+\n",
            "\n"
          ]
        }
      ]
    },
    {
      "cell_type": "code",
      "source": [
        "from pyspark.sql.functions import isnan,when,count,col\n",
        "df.select([count(when(isnan(c) | col(c).isNull() | col(c).contains('NA'),c)).alias(c)for c in df.columns]).show(vertical=True)"
      ],
      "metadata": {
        "colab": {
          "base_uri": "https://localhost:8080/"
        },
        "id": "jRgOieuYVoaQ",
        "outputId": "767f81af-7b2d-458c-d630-93d8152c280a"
      },
      "execution_count": null,
      "outputs": [
        {
          "output_type": "stream",
          "name": "stdout",
          "text": [
            "-RECORD 0------------------\n",
            " match_id         | 0      \n",
            " inning           | 0      \n",
            " overs            | 0      \n",
            " ball             | 0      \n",
            " batsman          | 31     \n",
            " non_striker      | 23     \n",
            " bowler           | 587    \n",
            " batsman_runs     | 0      \n",
            " extra_runs       | 0      \n",
            " total_runs       | 0      \n",
            " non_boundary     | 0      \n",
            " is_wicket        | 0      \n",
            " dismissal_kind   | 183973 \n",
            " player_dismissed | 183975 \n",
            " fielder          | 186689 \n",
            " extras_type      | 183235 \n",
            " batting_team     | 0      \n",
            " bowling_team     | 191    \n",
            "\n"
          ]
        }
      ]
    },
    {
      "cell_type": "code",
      "source": [
        "from pyspark.sql.functions import isnan, when, count, col\n",
        "df1.select([count(when(isnan(c) | col(c).isNull(), c)).alias(c) for c in df1.columns]).show(vertical=True)"
      ],
      "metadata": {
        "colab": {
          "base_uri": "https://localhost:8080/"
        },
        "id": "pvog17rOtuU0",
        "outputId": "cd9b0ff6-928e-4fab-89dc-ae1315271700"
      },
      "execution_count": null,
      "outputs": [
        {
          "output_type": "stream",
          "name": "stdout",
          "text": [
            "-RECORD 0--------------\n",
            " match_id        | 0   \n",
            " date            | 0   \n",
            " player_of_match | 0   \n",
            " venue_id        | 0   \n",
            " neutral_venue   | 0   \n",
            " team1           | 0   \n",
            " team2           | 0   \n",
            " toss_winner     | 0   \n",
            " toss_decision   | 0   \n",
            " winner          | 0   \n",
            " result          | 0   \n",
            " result_margin   | 0   \n",
            " eliminator      | 0   \n",
            " method          | 0   \n",
            " umpire1         | 0   \n",
            " umpire2         | 0   \n",
            "\n"
          ]
        }
      ]
    },
    {
      "cell_type": "markdown",
      "source": [
        "Which players have most sixes in IPL?"
      ],
      "metadata": {
        "id": "DC45FLhvu_fO"
      }
    },
    {
      "cell_type": "code",
      "source": [
        "df.select(\"batsman_runs\").distinct().show()"
      ],
      "metadata": {
        "colab": {
          "base_uri": "https://localhost:8080/"
        },
        "id": "zfjMNIe4t6f8",
        "outputId": "558c46f7-b16d-446e-f12b-2328d69d7f5f"
      },
      "execution_count": null,
      "outputs": [
        {
          "output_type": "stream",
          "name": "stdout",
          "text": [
            "+------------+\n",
            "|batsman_runs|\n",
            "+------------+\n",
            "|           1|\n",
            "|           6|\n",
            "|           3|\n",
            "|           5|\n",
            "|           4|\n",
            "|           2|\n",
            "|           0|\n",
            "+------------+\n",
            "\n"
          ]
        }
      ]
    },
    {
      "cell_type": "markdown",
      "source": [
        ""
      ],
      "metadata": {
        "id": "HvK-PiTX8mkt"
      }
    },
    {
      "cell_type": "code",
      "source": [
        "sixes=df.filter(df.batsman_runs.isin(4,6,1))\n",
        "sixes.groupby(\"batsman\").count().sort(\"count\",ascending=False).show(10)"
      ],
      "metadata": {
        "colab": {
          "base_uri": "https://localhost:8080/"
        },
        "id": "RUqZiBFTvNKt",
        "outputId": "b02f0eba-5724-4014-8151-013bc1cba52f"
      },
      "execution_count": null,
      "outputs": [
        {
          "output_type": "stream",
          "name": "stdout",
          "text": [
            "+--------------+-----+\n",
            "|       batsman|count|\n",
            "+--------------+-----+\n",
            "|       V Kohli| 2625|\n",
            "|      SK Raina| 2353|\n",
            "|      S Dhawan| 2337|\n",
            "|     RG Sharma| 2335|\n",
            "|     DA Warner| 2053|\n",
            "|AB de Villiers| 1958|\n",
            "|    RV Uthappa| 1948|\n",
            "|      MS Dhoni| 1938|\n",
            "|     G Gambhir| 1903|\n",
            "|     AM Rahane| 1818|\n",
            "+--------------+-----+\n",
            "only showing top 10 rows\n",
            "\n"
          ]
        }
      ]
    },
    {
      "cell_type": "code",
      "source": [
        "df1.printSchema()"
      ],
      "metadata": {
        "colab": {
          "base_uri": "https://localhost:8080/"
        },
        "id": "S4LOsfo_vQ0S",
        "outputId": "1a0b5317-75aa-4f36-cbc3-1a91f86a8037"
      },
      "execution_count": null,
      "outputs": [
        {
          "output_type": "stream",
          "name": "stdout",
          "text": [
            "root\n",
            " |-- match_id: integer (nullable = true)\n",
            " |-- date: string (nullable = true)\n",
            " |-- player_of_match: string (nullable = true)\n",
            " |-- venue_id: integer (nullable = true)\n",
            " |-- neutral_venue: integer (nullable = true)\n",
            " |-- team1: string (nullable = true)\n",
            " |-- team2: string (nullable = true)\n",
            " |-- toss_winner: string (nullable = true)\n",
            " |-- toss_decision: string (nullable = true)\n",
            " |-- winner: string (nullable = true)\n",
            " |-- result: string (nullable = true)\n",
            " |-- result_margin: string (nullable = true)\n",
            " |-- eliminator: string (nullable = true)\n",
            " |-- method: string (nullable = true)\n",
            " |-- umpire1: string (nullable = true)\n",
            " |-- umpire2: string (nullable = true)\n",
            "\n"
          ]
        }
      ]
    },
    {
      "cell_type": "code",
      "source": [
        "from pyspark.sql.functions import col\n",
        "from pyspark.sql import Row\n",
        "from pyspark.sql.functions import sum \n",
        "from pyspark.sql.functions import count "
      ],
      "metadata": {
        "id": "vbOSeF_fB9w_"
      },
      "execution_count": null,
      "outputs": []
    },
    {
      "cell_type": "code",
      "source": [
        "four_six=df.filter(df.batsman_runs.isin(6,4))\n",
        "four_six2=four_six.groupBy('Batsman').agg(sum('batsman_runs').alias(\"Runs in boundaries\")).sort('Runs in boundaries',ascending=False)"
      ],
      "metadata": {
        "id": "pCz2tEhDykk1"
      },
      "execution_count": null,
      "outputs": []
    },
    {
      "cell_type": "code",
      "source": [
        "four_six2.show(10)"
      ],
      "metadata": {
        "colab": {
          "base_uri": "https://localhost:8080/"
        },
        "id": "qBicUoYnykni",
        "outputId": "37a3c752-29cd-4379-a5d7-787b69c5433a"
      },
      "execution_count": null,
      "outputs": [
        {
          "output_type": "stream",
          "name": "stdout",
          "text": [
            "+--------------+------------------+\n",
            "|       Batsman|Runs in boundaries|\n",
            "+--------------+------------------+\n",
            "|      CH Gayle|              3630|\n",
            "|       V Kohli|              3228|\n",
            "|     DA Warner|              3210|\n",
            "|      SK Raina|              3136|\n",
            "|     RG Sharma|              3116|\n",
            "|      S Dhawan|              3018|\n",
            "|AB de Villiers|              2970|\n",
            "|    RV Uthappa|              2794|\n",
            "|     SR Watson|              2644|\n",
            "|      MS Dhoni|              2548|\n",
            "+--------------+------------------+\n",
            "only showing top 10 rows\n",
            "\n"
          ]
        }
      ]
    },
    {
      "cell_type": "code",
      "source": [
        "df.count()"
      ],
      "metadata": {
        "colab": {
          "base_uri": "https://localhost:8080/"
        },
        "id": "3iGKmTX5ykqJ",
        "outputId": "602cd5c9-b639-4558-927c-673699d2ce06"
      },
      "execution_count": null,
      "outputs": [
        {
          "output_type": "execute_result",
          "data": {
            "text/plain": [
              "193468"
            ]
          },
          "metadata": {},
          "execution_count": 84
        }
      ]
    },
    {
      "cell_type": "code",
      "source": [
        ""
      ],
      "metadata": {
        "id": "sXWoiVO5yktC"
      },
      "execution_count": null,
      "outputs": []
    },
    {
      "cell_type": "code",
      "source": [
        ""
      ],
      "metadata": {
        "id": "GsksgwnBykvm"
      },
      "execution_count": null,
      "outputs": []
    },
    {
      "cell_type": "code",
      "source": [
        ""
      ],
      "metadata": {
        "id": "a6q75GIUykyM"
      },
      "execution_count": null,
      "outputs": []
    },
    {
      "cell_type": "code",
      "source": [
        ""
      ],
      "metadata": {
        "id": "QjieyLjMyk0_"
      },
      "execution_count": null,
      "outputs": []
    },
    {
      "cell_type": "code",
      "source": [
        ""
      ],
      "metadata": {
        "id": "l-KDehmTyk3j"
      },
      "execution_count": null,
      "outputs": []
    },
    {
      "cell_type": "code",
      "source": [
        ""
      ],
      "metadata": {
        "id": "U8F6Si0byk6p"
      },
      "execution_count": null,
      "outputs": []
    },
    {
      "cell_type": "code",
      "source": [
        "import sqlite3\n",
        "class database:\n",
        "  def main():\n",
        "    try:\n",
        "      conn=sqlite3.connect(\"customer.db\")\n",
        "      print(\"Created Successfully\")\n",
        "\n",
        "      c=conn.cursor()\n",
        "      # c.execute(\"\"\"CREATE TABLE customers(\n",
        "      #   first_name text,\n",
        "      #   last_name text,\n",
        "      #   email text \n",
        "      # )\"\"\")\n",
        "\n",
        "      # many_customers=[\n",
        "      #                 ('Wes','Brown','wes@brown.com'),\n",
        "      #                 ('Keith','Ferns','keith@ferns.com'),\n",
        "      #                 ('Step','pas','Step@pas.com')\n",
        "      #                 ]\n",
        "      # c.executemany(\"INSERT INTO customers VALUES (?,?,?)\",many_customers)\n",
        "      # print(\"Values entered\")\n",
        "\n",
        "      #c.execute(\"SELECT * FROM customers WHERE last_name LIKE 'Br%'\")\n",
        "      # c.fetchone()\n",
        "      # c.fetchmany(3)\n",
        "\n",
        "      #Update Customers\n",
        "      # c.execute(\"\"\"UPDATE customers SET first_name ='BOB'\n",
        "      #           WHERE rowid=1      \n",
        "      # \"\"\")\n",
        "\n",
        "      # c.execute(\"DELETE from customers WHERE rowid=1\") #DELETE record\n",
        "\n",
        "     # c.execute(\"SELECT rowid,* FROM customers ORDER BY  last_name DESC\") #DESCENDING\n",
        "\n",
        "      #c.execute(\"SELECT rowid,* FROM customers WHERE last_name LIKE 'Fe%' AND rowid =2 \") #LOgical\n",
        "      #c.execute(\"SELECT rowid,* FROM customers WHERE last_name LIKE 'Fe%' OR rowid =2 \")  #OPerations\n",
        "      \n",
        "      \n",
        "      #c.execute(\"SELECT rowid, * FROM customers ORDER BY rowid DESC  LIMIT 2\") #LIMIT shows number of rows u want\n",
        "\n",
        "      #c.execute(\"DROP table customers\") #DELTERS thetable\n",
        "\n",
        "      #c.execute(\"Select rowid, * FROM customers\")\n",
        "\n",
        "\n",
        "\n",
        "      items=c.fetchall()\n",
        "      for item in items:\n",
        "        #print(item[0] + '\\t' + item[1] + '\\t' + item[2])\n",
        "        print(item)\n",
        "      conn.commit()\n",
        "      conn.close()\n",
        "    except Exception as e:\n",
        "      print(e)\n",
        "if __name__==\"__main__\":\n",
        "  db=database\n",
        "  db.main()\n"
      ],
      "metadata": {
        "colab": {
          "base_uri": "https://localhost:8080/"
        },
        "id": "RaP46LUY-aGr",
        "outputId": "efaefd0c-ee90-4eaa-b88f-1301a02346fd"
      },
      "execution_count": null,
      "outputs": [
        {
          "output_type": "stream",
          "name": "stdout",
          "text": [
            "Created Successfully\n",
            "(9, 'Step', 'pas', 'Step@pas.com')\n",
            "(8, 'Keith', 'Ferns', 'keith@ferns.com')\n"
          ]
        }
      ]
    },
    {
      "cell_type": "code",
      "source": [
        "a=('k','f','f')\n",
        "a[0]='j'"
      ],
      "metadata": {
        "colab": {
          "base_uri": "https://localhost:8080/",
          "height": 190
        },
        "id": "tK3eBd6tB7D0",
        "outputId": "3fd77a0d-d7de-4861-f412-fad225a27b97"
      },
      "execution_count": null,
      "outputs": [
        {
          "output_type": "error",
          "ename": "TypeError",
          "evalue": "ignored",
          "traceback": [
            "\u001b[0;31m---------------------------------------------------------------------------\u001b[0m",
            "\u001b[0;31mTypeError\u001b[0m                                 Traceback (most recent call last)",
            "\u001b[0;32m<ipython-input-38-f875f0b10cb8>\u001b[0m in \u001b[0;36m<module>\u001b[0;34m()\u001b[0m\n\u001b[1;32m      1\u001b[0m \u001b[0ma\u001b[0m\u001b[0;34m=\u001b[0m\u001b[0;34m(\u001b[0m\u001b[0;34m'k'\u001b[0m\u001b[0;34m,\u001b[0m\u001b[0;34m'f'\u001b[0m\u001b[0;34m,\u001b[0m\u001b[0;34m'f'\u001b[0m\u001b[0;34m)\u001b[0m\u001b[0;34m\u001b[0m\u001b[0;34m\u001b[0m\u001b[0m\n\u001b[0;32m----> 2\u001b[0;31m \u001b[0ma\u001b[0m\u001b[0;34m[\u001b[0m\u001b[0;36m0\u001b[0m\u001b[0;34m]\u001b[0m\u001b[0;34m=\u001b[0m\u001b[0;34m'j'\u001b[0m\u001b[0;34m\u001b[0m\u001b[0;34m\u001b[0m\u001b[0m\n\u001b[0m",
            "\u001b[0;31mTypeError\u001b[0m: 'tuple' object does not support item assignment"
          ]
        }
      ]
    },
    {
      "cell_type": "code",
      "source": [
        "import csv\n",
        "import sqlite3\n",
        "    \n",
        "# try:\n",
        "  \n",
        "# Import csv and extract data\n",
        "with open('ipl_ball_by_ball.csv', 'r') as fin:\n",
        "      dr = csv.DictReader(fin)\n",
        "      ipl_ball_info = [(i['match_id'], i['inning'],i['overs'],i['ball'],i['batsman'],i['non_striker'],i['bowler'],i['batsman_runs'],i['extra_runs'],i['total_runs'],i['non_boundary'],i['is_wicket'],i['dismissal_kind'],i['player_dismissed'],i['fielder'],i['extras_type'],i['batting_team'],i['bowling_team']) for i in dr]\n",
        "      print(ipl_ball_info)\n",
        "    #  for line in fin:\n",
        "    #     line = line.replace('\"', '')\n",
        "    #     data = line.split(\",\")\n",
        "\n",
        "# Connect to SQLite\n",
        "sqliteConnection = sqlite3.connect('sql.db')\n",
        "cursor = sqliteConnection.cursor()\n",
        "\n",
        "# Create student table\n",
        "cursor.execute(\"\"\"Create Table ipl_ball (match_id integer, inning integer, overs integer, ball integer, batsman text, non_striker text, bowler text, batsman_runs integer, extra_runs integer, total_runs integer, non_boundary integer, is_wicket integer, dismissal_kind text, player_dismissed text, fielder text, extras_type text, batting_team text, bowling_team text;\"\"\")\n",
        "\n",
        "# Insert data into table\n",
        "cursor.executemany(\n",
        "    \"\"\"Insert Into ipl_ball (match_id, inning, overs, ball,batsman, non_striker, bowler, batsman_runs, extra_runs, total_runs, non_boundary, is_wicket, dismissal_kind, player_dismissed, fielder, extras_type, batting_team, bowling_team) VALUES (?, ?, ?, ?, ?, ?, ?, ?, ?, ?, ?, ?, ?, ?, ?, ?, ?, ?);\", ipl_ball_info\"\"\")\n",
        "\n",
        "# Show student table\n",
        "cursor.execute('select * from ipl_ball;')\n",
        "\n",
        "# View result\n",
        "result = cursor.fetchall()\n",
        "print(result)\n",
        "\n",
        "# Commit work and close connection\n",
        "sqliteConnection.commit()\n",
        "cursor.close()"
      ],
      "metadata": {
        "id": "PX-r_4fxb56w",
        "colab": {
          "base_uri": "https://localhost:8080/",
          "height": 443
        },
        "outputId": "3cc6dd3b-b95f-4271-9e5f-722c4719733d"
      },
      "execution_count": null,
      "outputs": [
        {
          "output_type": "stream",
          "name": "stderr",
          "text": [
            "IOPub data rate exceeded.\n",
            "The notebook server will temporarily stop sending output\n",
            "to the client in order to avoid crashing it.\n",
            "To change this limit, set the config variable\n",
            "`--NotebookApp.iopub_data_rate_limit`.\n",
            "\n",
            "Current values:\n",
            "NotebookApp.iopub_data_rate_limit=1000000.0 (bytes/sec)\n",
            "NotebookApp.rate_limit_window=3.0 (secs)\n",
            "\n"
          ]
        },
        {
          "output_type": "error",
          "ename": "OperationalError",
          "evalue": "ignored",
          "traceback": [
            "\u001b[0;31m---------------------------------------------------------------------------\u001b[0m",
            "\u001b[0;31mOperationalError\u001b[0m                          Traceback (most recent call last)",
            "\u001b[0;32m<ipython-input-8-e994506d8497>\u001b[0m in \u001b[0;36m<module>\u001b[0;34m()\u001b[0m\n\u001b[1;32m     18\u001b[0m \u001b[0;34m\u001b[0m\u001b[0m\n\u001b[1;32m     19\u001b[0m \u001b[0;31m# Create student table\u001b[0m\u001b[0;34m\u001b[0m\u001b[0;34m\u001b[0m\u001b[0;34m\u001b[0m\u001b[0m\n\u001b[0;32m---> 20\u001b[0;31m \u001b[0mcursor\u001b[0m\u001b[0;34m.\u001b[0m\u001b[0mexecute\u001b[0m\u001b[0;34m(\u001b[0m\u001b[0;34m\"\"\"Create Table ipl_ball (match_id integer, inning integer, overs integer, ball integer, batsman text, non_striker text, bowler text, batsman_runs integer, extra_runs integer, total_runs integer, non_boundary integer, is_wicket integer, dismissal_kind text, player_dismissed text, fielder text, extras_type text, batting_team text, bowling_team text;\"\"\"\u001b[0m\u001b[0;34m)\u001b[0m\u001b[0;34m\u001b[0m\u001b[0;34m\u001b[0m\u001b[0m\n\u001b[0m\u001b[1;32m     21\u001b[0m \u001b[0;34m\u001b[0m\u001b[0m\n\u001b[1;32m     22\u001b[0m \u001b[0;31m# Insert data into table\u001b[0m\u001b[0;34m\u001b[0m\u001b[0;34m\u001b[0m\u001b[0;34m\u001b[0m\u001b[0m\n",
            "\u001b[0;31mOperationalError\u001b[0m: near \";\": syntax error"
          ]
        }
      ]
    },
    {
      "cell_type": "code",
      "source": [
        "df.printSchema()"
      ],
      "metadata": {
        "colab": {
          "base_uri": "https://localhost:8080/"
        },
        "id": "OWRQ11ogHx7Q",
        "outputId": "0134988e-06ab-4b83-9d32-aab405a90c02"
      },
      "execution_count": null,
      "outputs": [
        {
          "output_type": "stream",
          "name": "stdout",
          "text": [
            "root\n",
            " |-- match_id: integer (nullable = true)\n",
            " |-- inning: integer (nullable = true)\n",
            " |-- overs: integer (nullable = true)\n",
            " |-- ball: integer (nullable = true)\n",
            " |-- batsman: string (nullable = true)\n",
            " |-- non_striker: string (nullable = true)\n",
            " |-- bowler: string (nullable = true)\n",
            " |-- batsman_runs: integer (nullable = true)\n",
            " |-- extra_runs: integer (nullable = true)\n",
            " |-- total_runs: integer (nullable = true)\n",
            " |-- non_boundary: integer (nullable = true)\n",
            " |-- is_wicket: integer (nullable = true)\n",
            " |-- dismissal_kind: string (nullable = true)\n",
            " |-- player_dismissed: string (nullable = true)\n",
            " |-- fielder: string (nullable = true)\n",
            " |-- extras_type: string (nullable = true)\n",
            " |-- batting_team: string (nullable = true)\n",
            " |-- bowling_team: string (nullable = true)\n",
            "\n"
          ]
        }
      ]
    },
    {
      "cell_type": "code",
      "source": [
        "# Import required modules\n",
        "import csv\n",
        "import sqlite3\n",
        " \n",
        "# Connecting to the geeks database\n",
        "connection = sqlite3.connect('ipl_ball.db')\n",
        " \n",
        "# Creating a cursor object to execute\n",
        "# SQL queries on a database table\n",
        "cursor = connection.cursor()\n",
        " \n",
        "\n",
        "create_table = '''CREATE TABLE ipl(\n",
        "                match_id INTEGER ,\n",
        "                inning INTEGER ,\n",
        "                overs INTEGER,\n",
        "                ball INTEGER,\n",
        "                batsman TEXT,\n",
        "                non_striker TEXT,\n",
        "                bowler TEXT,\n",
        "                batsman_runs INTEGER,\n",
        "                extra_runs INTEGER,\n",
        "                total_runs INTEGER,\n",
        "                non_boundary INTEGER,\n",
        "                is_wicket INTEGER,\n",
        "                dismissal_kind TEXT,\n",
        "                player_dismissed TEXT,\n",
        "                fielder TEXT,\n",
        "                extras_type TEXT,\n",
        "                batting_team TEXT,\n",
        "                bowling_team TEXT\n",
        "                 );\n",
        "                '''\n",
        " \n",
        "# # Creating the table into our\n",
        "# # database\n",
        "# cursor.execute(create_table)\n",
        " \n",
        "# Opening the person-records.csv file\n",
        "file = open('ipl_ball_by_ball.csv')\n",
        " \n",
        "# Reading the contents of the\n",
        "# person-records.csv file\n",
        "contents = csv.reader(file)\n",
        " \n",
        "# SQL query to insert data into the\n",
        "# person table\n",
        "insert_records = \"INSERT INTO ipl (match_id, inning, overs, ball, batsman, non_striker, bowler, batsman_runs, extra_runs, total_runs, non_boundary, is_wicket, dismissal_kind, player_dismissed, fielder, extras_type, batting_team, bowling_team ) VALUES(?, ?, ?, ?, ?, ?, ?, ?, ?, ?, ?, ?, ?, ?, ?, ?, ?, ?)\"\n",
        " \n",
        "# Importing the contents of the file\n",
        "# into our person table\n",
        "cursor.executemany(insert_records, contents)\n",
        " \n",
        "# SQL query to retrieve all data from\n",
        "# the person table To verify that the\n",
        "# data of the csv file has been successfully\n",
        "# inserted into the table\n",
        "select_all = \"SELECT * FROM ipl\"\n",
        "rows = cursor.execute(select_all).fetchmany(5)\n",
        " \n",
        "# Output to the console screen\n",
        "for r in rows:\n",
        "    print(r)\n",
        " \n",
        "# Committing the changes\n",
        "connection.commit()\n",
        " \n",
        "# closing the database connection\n",
        "connection.close()"
      ],
      "metadata": {
        "colab": {
          "base_uri": "https://localhost:8080/",
          "height": 235
        },
        "id": "T51DuiHw6L_m",
        "outputId": "05f43928-5119-49c9-a565-c333657fd190"
      },
      "execution_count": 17,
      "outputs": [
        {
          "output_type": "error",
          "ename": "OperationalError",
          "evalue": "ignored",
          "traceback": [
            "\u001b[0;31m---------------------------------------------------------------------------\u001b[0m",
            "\u001b[0;31mOperationalError\u001b[0m                          Traceback (most recent call last)",
            "\u001b[0;32m<ipython-input-17-2f51efc3b0e7>\u001b[0m in \u001b[0;36m<module>\u001b[0;34m()\u001b[0m\n\u001b[1;32m     50\u001b[0m \u001b[0;31m# Importing the contents of the file\u001b[0m\u001b[0;34m\u001b[0m\u001b[0;34m\u001b[0m\u001b[0;34m\u001b[0m\u001b[0m\n\u001b[1;32m     51\u001b[0m \u001b[0;31m# into our person table\u001b[0m\u001b[0;34m\u001b[0m\u001b[0;34m\u001b[0m\u001b[0;34m\u001b[0m\u001b[0m\n\u001b[0;32m---> 52\u001b[0;31m \u001b[0mcursor\u001b[0m\u001b[0;34m.\u001b[0m\u001b[0mexecutemany\u001b[0m\u001b[0;34m(\u001b[0m\u001b[0minsert_records\u001b[0m\u001b[0;34m,\u001b[0m \u001b[0mcontents\u001b[0m\u001b[0;34m)\u001b[0m\u001b[0;34m\u001b[0m\u001b[0;34m\u001b[0m\u001b[0m\n\u001b[0m\u001b[1;32m     53\u001b[0m \u001b[0;34m\u001b[0m\u001b[0m\n\u001b[1;32m     54\u001b[0m \u001b[0;31m# SQL query to retrieve all data from\u001b[0m\u001b[0;34m\u001b[0m\u001b[0;34m\u001b[0m\u001b[0;34m\u001b[0m\u001b[0m\n",
            "\u001b[0;31mOperationalError\u001b[0m: no such table: ipl"
          ]
        }
      ]
    },
    {
      "cell_type": "code",
      "source": [
        "import pandas as pd\n",
        "df1=pd.read_csv(\"ipl_matches.csv\")\n",
        "df1.columns"
      ],
      "metadata": {
        "colab": {
          "base_uri": "https://localhost:8080/"
        },
        "id": "L908Wo01plfa",
        "outputId": "8e26acc7-eaa5-4ee7-f539-4ca01135aeb4"
      },
      "execution_count": 25,
      "outputs": [
        {
          "output_type": "execute_result",
          "data": {
            "text/plain": [
              "Index(['match_id', 'date', 'player_of_match', 'venue_id', 'neutral_venue',\n",
              "       'team1', 'team2', 'toss_winner', 'toss_decision', 'winner', 'result',\n",
              "       'result_margin', 'eliminator', 'method', 'umpire1', 'umpire2'],\n",
              "      dtype='object')"
            ]
          },
          "metadata": {},
          "execution_count": 25
        }
      ]
    },
    {
      "cell_type": "code",
      "source": [
        "df1.info()"
      ],
      "metadata": {
        "colab": {
          "base_uri": "https://localhost:8080/"
        },
        "id": "G7ncAKlLqKED",
        "outputId": "dd0cfb5d-895a-434d-a4d8-9e56ca3f88f8"
      },
      "execution_count": 26,
      "outputs": [
        {
          "output_type": "stream",
          "name": "stdout",
          "text": [
            "<class 'pandas.core.frame.DataFrame'>\n",
            "RangeIndex: 816 entries, 0 to 815\n",
            "Data columns (total 16 columns):\n",
            " #   Column           Non-Null Count  Dtype  \n",
            "---  ------           --------------  -----  \n",
            " 0   match_id         816 non-null    int64  \n",
            " 1   date             816 non-null    object \n",
            " 2   player_of_match  812 non-null    object \n",
            " 3   venue_id         816 non-null    int64  \n",
            " 4   neutral_venue    816 non-null    int64  \n",
            " 5   team1            816 non-null    object \n",
            " 6   team2            816 non-null    object \n",
            " 7   toss_winner      816 non-null    object \n",
            " 8   toss_decision    816 non-null    object \n",
            " 9   winner           812 non-null    object \n",
            " 10  result           812 non-null    object \n",
            " 11  result_margin    799 non-null    float64\n",
            " 12  eliminator       812 non-null    object \n",
            " 13  method           19 non-null     object \n",
            " 14  umpire1          816 non-null    object \n",
            " 15  umpire2          816 non-null    object \n",
            "dtypes: float64(1), int64(3), object(12)\n",
            "memory usage: 102.1+ KB\n"
          ]
        }
      ]
    },
    {
      "cell_type": "code",
      "source": [
        "df2=pd.read_csv('ipl_venue.csv')\n",
        "df2.info()"
      ],
      "metadata": {
        "colab": {
          "base_uri": "https://localhost:8080/"
        },
        "id": "XUAcLDP-u1fb",
        "outputId": "cb93aacd-814e-46ab-9854-a110f5c2b39a"
      },
      "execution_count": 29,
      "outputs": [
        {
          "output_type": "stream",
          "name": "stdout",
          "text": [
            "<class 'pandas.core.frame.DataFrame'>\n",
            "RangeIndex: 35 entries, 0 to 34\n",
            "Data columns (total 3 columns):\n",
            " #   Column    Non-Null Count  Dtype \n",
            "---  ------    --------------  ----- \n",
            " 0   venue_id  35 non-null     int64 \n",
            " 1   venue     35 non-null     object\n",
            " 2   city      35 non-null     object\n",
            "dtypes: int64(1), object(2)\n",
            "memory usage: 968.0+ bytes\n"
          ]
        }
      ]
    },
    {
      "cell_type": "code",
      "source": [
        "import csv\n",
        "import sqlite3\n",
        "import os\n",
        "class ipl_ball1:\n",
        "    def db1():\n",
        "        try:\n",
        "          if os.path.isfile(\"ipl_ball.db\"):\n",
        "            print(\"Database exist\")\n",
        "          else:\n",
        "            \n",
        "            connection = sqlite3.connect('ipl_ball.db')\n",
        "\n",
        "            cursor = connection.cursor()\n",
        "\n",
        "            create_table = '''CREATE TABLE ipl(\n",
        "                            match_id INTEGER ,\n",
        "                            inning INTEGER ,\n",
        "                            overs INTEGER,\n",
        "                            ball INTEGER,\n",
        "                            batsman TEXT,\n",
        "                            non_striker TEXT,\n",
        "                            bowler TEXT,\n",
        "                            batsman_runs INTEGER,\n",
        "                            extra_runs INTEGER,\n",
        "                            total_runs INTEGER,\n",
        "                            non_boundary INTEGER,\n",
        "                            is_wicket INTEGER,\n",
        "                            dismissal_kind TEXT,\n",
        "                            player_dismissed TEXT,\n",
        "                            fielder TEXT,\n",
        "                            extras_type TEXT,\n",
        "                            batting_team TEXT,\n",
        "                            bowling_team TEXT\n",
        "                             );\n",
        "                            '''\n",
        "            cursor.execute(create_table)\n",
        "\n",
        "            file = open('ipl_ball_by_ball.csv')\n",
        "            contents = csv.reader(file)\n",
        "\n",
        "\n",
        "            insert_records = \"INSERT INTO ipl (match_id, inning, overs, ball, batsman, non_striker, bowler, batsman_runs, extra_runs, total_runs, non_boundary, is_wicket, dismissal_kind, player_dismissed, fielder, extras_type, batting_team, bowling_team ) VALUES(?, ?, ?, ?, ?, ?, ?, ?, ?, ?, ?, ?, ?, ?, ?, ?, ?, ?)\"\n",
        "\n",
        "            cursor.executemany(insert_records, contents)\n",
        "\n",
        "            select_all = \"SELECT * FROM ipl\"\n",
        "            rows = cursor.execute(select_all).fetchmany(5)\n",
        "\n",
        "            # Output to the console screen\n",
        "            for r in rows:\n",
        "                print(r)\n",
        "\n",
        "            connection.commit()\n",
        "\n",
        "            connection.close()\n",
        "        except Exception as e:\n",
        "            print(e)\n",
        "    def db2():\n",
        "      try:\n",
        "          if os.path.isfile(\"ipl_matches.db\"):\n",
        "            print(\"Database exist\")\n",
        "          else:\n",
        "            \n",
        "            connection = sqlite3.connect('ipl_matches.db')\n",
        "\n",
        "            cursor = connection.cursor()\n",
        "\n",
        "            create_table = '''CREATE TABLE ipl_match(\n",
        "                            match_id INTEGER ,\n",
        "                            date TEXT ,\n",
        "                            player_of_match TEXT,\n",
        "                            venue_id INTEGER,\n",
        "                            neutral_venue INTEGER,\n",
        "                            team1 TEXT,\n",
        "                            team2 TEXT,\n",
        "                            toss_winner TEXT,\n",
        "                            toss_decision TEXT,                           \n",
        "                            winner TEXT,\n",
        "                            result TEXT,\n",
        "                            result_margin INTEGER,\n",
        "                            eliminator TEXT,\n",
        "                            method TEXT,                           \n",
        "                            umpire1 TEXT,\n",
        "                            umpire2 TEXT\n",
        "                             );\n",
        "                            '''\n",
        "            cursor.execute(create_table)\n",
        "\n",
        "            file = open('ipl_matches.csv')\n",
        "            contents = csv.reader(file)\n",
        "\n",
        "\n",
        "            insert_records = \"INSERT INTO ipl_match (match_id, date, player_of_match, venue_id, neutral_venue, team1, team2,\\\n",
        "             toss_winner, toss_decision, winner, result, result_margin, eliminator, method, umpire1, umpire2 ) VALUES(?, ?, ?, ?, ?, ?, ?, ?, ?, ?, ?, ?, ?, ?, ?, ? )\"\n",
        "\n",
        "            cursor.executemany(insert_records, contents)\n",
        "\n",
        "            select_all = \"SELECT * FROM ipl_match\"\n",
        "            rows = cursor.execute(select_all).fetchmany(5)\n",
        "\n",
        "            # Output to the console screen\n",
        "            for r in rows:\n",
        "                print(r)\n",
        "\n",
        "            connection.commit()\n",
        "\n",
        "            connection.close()\n",
        "      except Exception as e:\n",
        "            print(e)\n",
        "\n",
        "    def db3():\n",
        "      try:\n",
        "          if os.path.isfile(\"ipl_venues.db\"):\n",
        "            print(\"Database exist\")\n",
        "          else:\n",
        "            \n",
        "            connection = sqlite3.connect('ipl_venues.db')\n",
        "\n",
        "            cursor = connection.cursor()\n",
        "\n",
        "            create_table = '''CREATE TABLE ipl_venue(\n",
        "                            venue_id INTEGER ,\n",
        "                            venue TEXT ,\n",
        "                            city TEXT);\n",
        "                            '''\n",
        "            cursor.execute(create_table)\n",
        "            file = open('ipl_venue.csv')\n",
        "            contents = csv.reader(file)\n",
        "\n",
        "            insert_records=\"INSERT INTO ipl_venue (venue_id, venue, city) VALUES(?,?,?)\"\n",
        "            cursor.executemany(insert_records, contents)\n",
        "\n",
        "            select_all = \"SELECT * FROM ipl_venue\"\n",
        "            rows = cursor.execute(select_all).fetchmany(5)\n",
        "\n",
        "            for r in rows:\n",
        "                print(r)\n",
        "\n",
        "            connection.commit()\n",
        "\n",
        "            connection.close()\n",
        "      except Exception as e:\n",
        "            print(e)\n",
        "\n",
        "\n",
        "      \n",
        "\n",
        "\n",
        "            \n",
        "            \n",
        "\n",
        "if __name__==\"__main__\": \n",
        "\n",
        "    db=ipl_ball1\n",
        "    db.db1()\n",
        "    db.db2() \n",
        "    db.db3()  "
      ],
      "metadata": {
        "id": "74WlDbWcJSjh",
        "colab": {
          "base_uri": "https://localhost:8080/"
        },
        "outputId": "7bfa8d3f-e91f-4fd5-9b24-5e6d371c5884"
      },
      "execution_count": 30,
      "outputs": [
        {
          "output_type": "stream",
          "name": "stdout",
          "text": [
            "Database exist\n",
            "Database exist\n",
            "('venue_id', 'venue', 'city')\n",
            "(1, 'Dr. Y.S. Rajasekhara Reddy ACA-VDCA Cricket Stadium', 'Visakhapatnam')\n",
            "(2, 'Sharjah Cricket Stadium', 'Sharjah')\n",
            "(3, 'JSCA International Stadium Complex', 'Ranchi')\n",
            "(4, 'Saurashtra Cricket Association Stadium', 'Rajkot')\n"
          ]
        }
      ]
    },
    {
      "cell_type": "code",
      "source": [
        "import sqlite3 \n",
        "import sys\n",
        "\n",
        "\n",
        "class SqlMgr:\n",
        "\n",
        "\tdef __init__(self):\n",
        "\t\t\n",
        "\t\tself.dbPath = 'ipl.db'\n",
        "\t\tself.con = None\n",
        "\t\tself.getConnection(self.dbPath)\n",
        "\n",
        "\tdef getConnection(self, dbPath):\n",
        "\t\t\n",
        "\t\ttry:\n",
        "\t\t\tself.con = sqlite3.connect(dbPath)\n",
        "\t\t\tprint(\"connection created\")\n",
        "\t\texcept Exception as e:\n",
        "\t\t\tprint(e)\n",
        "\t\t\t#sys.exit(1)\n",
        "  def TableCreation(self):\n",
        "     create_table = '''CREATE TABLE ipl(\n",
        "                            match_id INTEGER ,\n",
        "                            inning INTEGER ,\n",
        "                            overs INTEGER,\n",
        "                            ball INTEGER,\n",
        "                            batsman TEXT,\n",
        "                            non_striker TEXT,\n",
        "                            bowler TEXT,\n",
        "                            batsman_runs INTEGER,\n",
        "                            extra_runs INTEGER,\n",
        "                            total_runs INTEGER,\n",
        "                            non_boundary INTEGER,\n",
        "                            is_wicket INTEGER,\n",
        "                            dismissal_kind TEXT,\n",
        "                            player_dismissed TEXT,\n",
        "                            fielder TEXT,\n",
        "                            extras_type TEXT,\n",
        "                            batting_team TEXT,\n",
        "                            bowling_team TEXT\n",
        "                             );'''\n",
        "                             \n"
      ],
      "metadata": {
        "id": "e9-ekQTeSxS3"
      },
      "execution_count": null,
      "outputs": []
    },
    {
      "cell_type": "code",
      "source": [
        "import csv\n",
        "import sqlite3\n",
        " \n",
        "# Connecting to the geeks database\n",
        "connection = sqlite3.connect('ipl_ball.db')\n",
        " \n",
        "# Creating a cursor object to execute\n",
        "# SQL queries on a database table\n",
        "cursor = connection.cursor()\n",
        " \n",
        "# Table Definition\n",
        "# create_table = '''CREATE TABLE ipl_ball(\n",
        "#                 match_id INTEGER ,\n",
        "#                 inning INTEGER ,\n",
        "#                 overs INTEGER,\n",
        "#                 ball INTEGER,\n",
        "#                 batsman TEXT,\n",
        "#                 non_striker TEXT,\n",
        "#                 bowler TEXT,\n",
        "#                 batsman_runs INTEGER,\n",
        "#                 extra_runs INTEGER,\n",
        "#                 total_runs INTEGER,\n",
        "#                 non_boundary INTEGER,\n",
        "#                 is_wicket INTEGER,\n",
        "#                 dismissal_kind TEXT,\n",
        "#                 player_dismissed TEXT,\n",
        "#                 fielder TEXT,\n",
        "#                 extras_type TEXT,\n",
        "#                 batting_team TEXT,\n",
        "#                 bowling_team TEXT\n",
        "#                  );\n",
        "#                 '''\n",
        " \n",
        "# # Creating the table into our\n",
        "# # database\n",
        "# cursor.execute(create_table)\n",
        " \n",
        "# Opening the person-records.csv file\n",
        "file = open('ipl_ball_by_ball.csv')\n",
        " \n",
        "# Reading the contents of the\n",
        "# person-records.csv file\n",
        "contents = csv.reader(file)\n",
        " \n",
        "# SQL query to insert data into the\n",
        "# person table\n",
        "insert_records = \"INSERT INTO ipl_ball (match_id, inning, overs, ball, batsman, non_striker, bowler, batsman_runs, extra_runs, total_runs, non_boundary, is_wicket, dismissal_kind, player_dismissed, fielder, extras_type, batting_team, bowling_team ) VALUES(?, ?, ?, ?, ?, ?, ?, ?, ?, ?, ?, ?, ?, ?, ?, ?, ?, ?)\"\n",
        " \n",
        "# Importing the contents of the file\n",
        "# into our person table\n",
        "cursor.executemany(insert_records, contents)\n",
        " \n",
        "# SQL query to retrieve all data from\n",
        "# the person table To verify that the\n",
        "# data of the csv file has been successfully\n",
        "# inserted into the table\n",
        "select_all = \"SELECT * FROM ipl_ball\"\n",
        "rows = cursor.execute(select_all).fetchmany(5)\n",
        " \n",
        "# Output to the console screen\n",
        "for r in rows:\n",
        "    print(r)\n",
        " \n",
        "# Committing the changes\n",
        "connection.commit()\n",
        " \n",
        "# closing the database connection\n",
        "connection.close()\n",
        "\n"
      ],
      "metadata": {
        "colab": {
          "base_uri": "https://localhost:8080/",
          "height": 235
        },
        "id": "u0_quggCaT2e",
        "outputId": "be42b739-fb3e-46ba-e61d-24696238ecd3"
      },
      "execution_count": 18,
      "outputs": [
        {
          "output_type": "error",
          "ename": "OperationalError",
          "evalue": "ignored",
          "traceback": [
            "\u001b[0;31m---------------------------------------------------------------------------\u001b[0m",
            "\u001b[0;31mOperationalError\u001b[0m                          Traceback (most recent call last)",
            "\u001b[0;32m<ipython-input-18-3ae868bee3dd>\u001b[0m in \u001b[0;36m<module>\u001b[0;34m()\u001b[0m\n\u001b[1;32m     49\u001b[0m \u001b[0;31m# Importing the contents of the file\u001b[0m\u001b[0;34m\u001b[0m\u001b[0;34m\u001b[0m\u001b[0;34m\u001b[0m\u001b[0m\n\u001b[1;32m     50\u001b[0m \u001b[0;31m# into our person table\u001b[0m\u001b[0;34m\u001b[0m\u001b[0;34m\u001b[0m\u001b[0;34m\u001b[0m\u001b[0m\n\u001b[0;32m---> 51\u001b[0;31m \u001b[0mcursor\u001b[0m\u001b[0;34m.\u001b[0m\u001b[0mexecutemany\u001b[0m\u001b[0;34m(\u001b[0m\u001b[0minsert_records\u001b[0m\u001b[0;34m,\u001b[0m \u001b[0mcontents\u001b[0m\u001b[0;34m)\u001b[0m\u001b[0;34m\u001b[0m\u001b[0;34m\u001b[0m\u001b[0m\n\u001b[0m\u001b[1;32m     52\u001b[0m \u001b[0;34m\u001b[0m\u001b[0m\n\u001b[1;32m     53\u001b[0m \u001b[0;31m# SQL query to retrieve all data from\u001b[0m\u001b[0;34m\u001b[0m\u001b[0;34m\u001b[0m\u001b[0;34m\u001b[0m\u001b[0m\n",
            "\u001b[0;31mOperationalError\u001b[0m: no such table: ipl_ball"
          ]
        }
      ]
    },
    {
      "cell_type": "code",
      "source": [
        "import os\n",
        "os.path.isfile(\"ipl_ball.db\")"
      ],
      "metadata": {
        "colab": {
          "base_uri": "https://localhost:8080/"
        },
        "id": "sWdn_xzxaa4u",
        "outputId": "b970ea1c-c0bf-4d23-e048-37ef2729898a"
      },
      "execution_count": 22,
      "outputs": [
        {
          "output_type": "execute_result",
          "data": {
            "text/plain": [
              "True"
            ]
          },
          "metadata": {},
          "execution_count": 22
        }
      ]
    },
    {
      "cell_type": "code",
      "source": [
        ""
      ],
      "metadata": {
        "id": "pMcxGVcppCTK"
      },
      "execution_count": null,
      "outputs": []
    }
  ]
}